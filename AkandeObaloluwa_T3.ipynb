{
 "cells": [
  {
   "cell_type": "code",
   "execution_count": 202,
   "id": "8f6328ac-a24b-4793-95ee-7c07cc25de7d",
   "metadata": {},
   "outputs": [],
   "source": [
    "import pandas as pd\n",
    "\n",
    "import matplotlib.pyplot as plt"
   ]
  },
  {
   "cell_type": "markdown",
   "id": "abd28b07-526f-4175-b89b-3bd7ad9984e0",
   "metadata": {
    "jp-MarkdownHeadingCollapsed": true
   },
   "source": [
    "## Importing all the datasets..."
   ]
  },
  {
   "cell_type": "code",
   "execution_count": 203,
   "id": "f719f9fd-4cee-4959-a729-7e17274cc8d4",
   "metadata": {},
   "outputs": [],
   "source": [
    "# orders dataset\n",
    "\n",
    "orders_df = pd.read_csv(r\"C:\\Users\\user\\Documents\\200l_2nd_sem\\CSC 298\\tech_crush\\datasets\\Pizza+Place+Sales\\pizza_sales\\orders.csv\")\n",
    "\n",
    "# order_details dataset\n",
    "\n",
    "order_details_df = pd.read_csv(r\"C:\\Users\\user\\Documents\\200l_2nd_sem\\CSC 298\\tech_crush\\datasets\\Pizza+Place+Sales\\pizza_sales\\order_details.csv\")\n",
    "\n",
    "# pizzas dataset\n",
    "\n",
    "pizzas_df = pd.read_csv(r\"C:\\Users\\user\\Documents\\200l_2nd_sem\\CSC 298\\tech_crush\\datasets\\Pizza+Place+Sales\\pizza_sales\\pizzas.csv\")\n",
    "\n",
    "# pizza_types dataset\n",
    "\n",
    "pizza_types_df = pd.read_csv(r\"C:\\Users\\user\\Documents\\200l_2nd_sem\\CSC 298\\tech_crush\\datasets\\Pizza+Place+Sales\\pizza_sales\\pizza_types.csv\", encoding=\"latin1\") # the encoding format here is not purely UTF-8"
   ]
  },
  {
   "cell_type": "markdown",
   "id": "4ffda668-9b89-4aad-9fd6-06ead9fa53ef",
   "metadata": {
    "jp-MarkdownHeadingCollapsed": true
   },
   "source": [
    "## Let's do a summary of the datasets..."
   ]
  },
  {
   "cell_type": "code",
   "execution_count": 204,
   "id": "0c367ec1-d377-416d-b0a6-cfcff2dd5159",
   "metadata": {},
   "outputs": [
    {
     "data": {
      "text/html": [
       "<div>\n",
       "<style scoped>\n",
       "    .dataframe tbody tr th:only-of-type {\n",
       "        vertical-align: middle;\n",
       "    }\n",
       "\n",
       "    .dataframe tbody tr th {\n",
       "        vertical-align: top;\n",
       "    }\n",
       "\n",
       "    .dataframe thead th {\n",
       "        text-align: right;\n",
       "    }\n",
       "</style>\n",
       "<table border=\"1\" class=\"dataframe\">\n",
       "  <thead>\n",
       "    <tr style=\"text-align: right;\">\n",
       "      <th></th>\n",
       "      <th>order_id</th>\n",
       "      <th>date</th>\n",
       "      <th>time</th>\n",
       "    </tr>\n",
       "  </thead>\n",
       "  <tbody>\n",
       "    <tr>\n",
       "      <th>0</th>\n",
       "      <td>1</td>\n",
       "      <td>2015-01-01</td>\n",
       "      <td>11:38:36</td>\n",
       "    </tr>\n",
       "    <tr>\n",
       "      <th>1</th>\n",
       "      <td>2</td>\n",
       "      <td>2015-01-01</td>\n",
       "      <td>11:57:40</td>\n",
       "    </tr>\n",
       "    <tr>\n",
       "      <th>2</th>\n",
       "      <td>3</td>\n",
       "      <td>2015-01-01</td>\n",
       "      <td>12:12:28</td>\n",
       "    </tr>\n",
       "    <tr>\n",
       "      <th>3</th>\n",
       "      <td>4</td>\n",
       "      <td>2015-01-01</td>\n",
       "      <td>12:16:31</td>\n",
       "    </tr>\n",
       "    <tr>\n",
       "      <th>4</th>\n",
       "      <td>5</td>\n",
       "      <td>2015-01-01</td>\n",
       "      <td>12:21:30</td>\n",
       "    </tr>\n",
       "  </tbody>\n",
       "</table>\n",
       "</div>"
      ],
      "text/plain": [
       "   order_id        date      time\n",
       "0         1  2015-01-01  11:38:36\n",
       "1         2  2015-01-01  11:57:40\n",
       "2         3  2015-01-01  12:12:28\n",
       "3         4  2015-01-01  12:16:31\n",
       "4         5  2015-01-01  12:21:30"
      ]
     },
     "execution_count": 204,
     "metadata": {},
     "output_type": "execute_result"
    }
   ],
   "source": [
    "# orders DataFrame\n",
    "\n",
    "orders_df.head()"
   ]
  },
  {
   "cell_type": "code",
   "execution_count": 205,
   "id": "82e6ddd1-cc07-4a19-ac73-aef285023bad",
   "metadata": {},
   "outputs": [
    {
     "name": "stdout",
     "output_type": "stream",
     "text": [
      "<class 'pandas.core.frame.DataFrame'>\n",
      "RangeIndex: 21350 entries, 0 to 21349\n",
      "Data columns (total 3 columns):\n",
      " #   Column    Non-Null Count  Dtype \n",
      "---  ------    --------------  ----- \n",
      " 0   order_id  21350 non-null  int64 \n",
      " 1   date      21350 non-null  object\n",
      " 2   time      21350 non-null  object\n",
      "dtypes: int64(1), object(2)\n",
      "memory usage: 500.5+ KB\n"
     ]
    }
   ],
   "source": [
    "orders_df.info()"
   ]
  },
  {
   "cell_type": "code",
   "execution_count": 206,
   "id": "c977dfd5-99fd-419b-b81e-f582260710c5",
   "metadata": {},
   "outputs": [
    {
     "data": {
      "text/html": [
       "<div>\n",
       "<style scoped>\n",
       "    .dataframe tbody tr th:only-of-type {\n",
       "        vertical-align: middle;\n",
       "    }\n",
       "\n",
       "    .dataframe tbody tr th {\n",
       "        vertical-align: top;\n",
       "    }\n",
       "\n",
       "    .dataframe thead th {\n",
       "        text-align: right;\n",
       "    }\n",
       "</style>\n",
       "<table border=\"1\" class=\"dataframe\">\n",
       "  <thead>\n",
       "    <tr style=\"text-align: right;\">\n",
       "      <th></th>\n",
       "      <th>order_details_id</th>\n",
       "      <th>order_id</th>\n",
       "      <th>pizza_id</th>\n",
       "      <th>quantity</th>\n",
       "    </tr>\n",
       "  </thead>\n",
       "  <tbody>\n",
       "    <tr>\n",
       "      <th>0</th>\n",
       "      <td>1</td>\n",
       "      <td>1</td>\n",
       "      <td>hawaiian_m</td>\n",
       "      <td>1</td>\n",
       "    </tr>\n",
       "    <tr>\n",
       "      <th>1</th>\n",
       "      <td>2</td>\n",
       "      <td>2</td>\n",
       "      <td>classic_dlx_m</td>\n",
       "      <td>1</td>\n",
       "    </tr>\n",
       "    <tr>\n",
       "      <th>2</th>\n",
       "      <td>3</td>\n",
       "      <td>2</td>\n",
       "      <td>five_cheese_l</td>\n",
       "      <td>1</td>\n",
       "    </tr>\n",
       "    <tr>\n",
       "      <th>3</th>\n",
       "      <td>4</td>\n",
       "      <td>2</td>\n",
       "      <td>ital_supr_l</td>\n",
       "      <td>1</td>\n",
       "    </tr>\n",
       "    <tr>\n",
       "      <th>4</th>\n",
       "      <td>5</td>\n",
       "      <td>2</td>\n",
       "      <td>mexicana_m</td>\n",
       "      <td>1</td>\n",
       "    </tr>\n",
       "  </tbody>\n",
       "</table>\n",
       "</div>"
      ],
      "text/plain": [
       "   order_details_id  order_id       pizza_id  quantity\n",
       "0                 1         1     hawaiian_m         1\n",
       "1                 2         2  classic_dlx_m         1\n",
       "2                 3         2  five_cheese_l         1\n",
       "3                 4         2    ital_supr_l         1\n",
       "4                 5         2     mexicana_m         1"
      ]
     },
     "execution_count": 206,
     "metadata": {},
     "output_type": "execute_result"
    }
   ],
   "source": [
    "# order_details DataFrame\n",
    "\n",
    "order_details_df.head()"
   ]
  },
  {
   "cell_type": "code",
   "execution_count": 207,
   "id": "c471748f-3dbd-41fd-9419-6da558175951",
   "metadata": {},
   "outputs": [
    {
     "name": "stdout",
     "output_type": "stream",
     "text": [
      "<class 'pandas.core.frame.DataFrame'>\n",
      "RangeIndex: 48620 entries, 0 to 48619\n",
      "Data columns (total 4 columns):\n",
      " #   Column            Non-Null Count  Dtype \n",
      "---  ------            --------------  ----- \n",
      " 0   order_details_id  48620 non-null  int64 \n",
      " 1   order_id          48620 non-null  int64 \n",
      " 2   pizza_id          48620 non-null  object\n",
      " 3   quantity          48620 non-null  int64 \n",
      "dtypes: int64(3), object(1)\n",
      "memory usage: 1.5+ MB\n"
     ]
    }
   ],
   "source": [
    "order_details_df.info()"
   ]
  },
  {
   "cell_type": "code",
   "execution_count": 208,
   "id": "198d8550-0f87-4d96-a7f8-963ba10bdbb2",
   "metadata": {},
   "outputs": [
    {
     "data": {
      "text/html": [
       "<div>\n",
       "<style scoped>\n",
       "    .dataframe tbody tr th:only-of-type {\n",
       "        vertical-align: middle;\n",
       "    }\n",
       "\n",
       "    .dataframe tbody tr th {\n",
       "        vertical-align: top;\n",
       "    }\n",
       "\n",
       "    .dataframe thead th {\n",
       "        text-align: right;\n",
       "    }\n",
       "</style>\n",
       "<table border=\"1\" class=\"dataframe\">\n",
       "  <thead>\n",
       "    <tr style=\"text-align: right;\">\n",
       "      <th></th>\n",
       "      <th>pizza_id</th>\n",
       "      <th>pizza_type_id</th>\n",
       "      <th>size</th>\n",
       "      <th>price</th>\n",
       "    </tr>\n",
       "  </thead>\n",
       "  <tbody>\n",
       "    <tr>\n",
       "      <th>0</th>\n",
       "      <td>bbq_ckn_s</td>\n",
       "      <td>bbq_ckn</td>\n",
       "      <td>S</td>\n",
       "      <td>12.75</td>\n",
       "    </tr>\n",
       "    <tr>\n",
       "      <th>1</th>\n",
       "      <td>bbq_ckn_m</td>\n",
       "      <td>bbq_ckn</td>\n",
       "      <td>M</td>\n",
       "      <td>16.75</td>\n",
       "    </tr>\n",
       "    <tr>\n",
       "      <th>2</th>\n",
       "      <td>bbq_ckn_l</td>\n",
       "      <td>bbq_ckn</td>\n",
       "      <td>L</td>\n",
       "      <td>20.75</td>\n",
       "    </tr>\n",
       "    <tr>\n",
       "      <th>3</th>\n",
       "      <td>cali_ckn_s</td>\n",
       "      <td>cali_ckn</td>\n",
       "      <td>S</td>\n",
       "      <td>12.75</td>\n",
       "    </tr>\n",
       "    <tr>\n",
       "      <th>4</th>\n",
       "      <td>cali_ckn_m</td>\n",
       "      <td>cali_ckn</td>\n",
       "      <td>M</td>\n",
       "      <td>16.75</td>\n",
       "    </tr>\n",
       "  </tbody>\n",
       "</table>\n",
       "</div>"
      ],
      "text/plain": [
       "     pizza_id pizza_type_id size  price\n",
       "0   bbq_ckn_s       bbq_ckn    S  12.75\n",
       "1   bbq_ckn_m       bbq_ckn    M  16.75\n",
       "2   bbq_ckn_l       bbq_ckn    L  20.75\n",
       "3  cali_ckn_s      cali_ckn    S  12.75\n",
       "4  cali_ckn_m      cali_ckn    M  16.75"
      ]
     },
     "execution_count": 208,
     "metadata": {},
     "output_type": "execute_result"
    }
   ],
   "source": [
    "# pizzas DataFrame\n",
    "\n",
    "pizzas_df.head()"
   ]
  },
  {
   "cell_type": "code",
   "execution_count": 209,
   "id": "54d7d10c-f3fe-40cf-99cd-2aef51581215",
   "metadata": {},
   "outputs": [
    {
     "name": "stdout",
     "output_type": "stream",
     "text": [
      "<class 'pandas.core.frame.DataFrame'>\n",
      "RangeIndex: 96 entries, 0 to 95\n",
      "Data columns (total 4 columns):\n",
      " #   Column         Non-Null Count  Dtype  \n",
      "---  ------         --------------  -----  \n",
      " 0   pizza_id       96 non-null     object \n",
      " 1   pizza_type_id  96 non-null     object \n",
      " 2   size           96 non-null     object \n",
      " 3   price          96 non-null     float64\n",
      "dtypes: float64(1), object(3)\n",
      "memory usage: 3.1+ KB\n"
     ]
    }
   ],
   "source": [
    "pizzas_df.info()"
   ]
  },
  {
   "cell_type": "code",
   "execution_count": 210,
   "id": "01c6c9e6-7563-415c-81c7-9807f6d6a025",
   "metadata": {},
   "outputs": [
    {
     "data": {
      "text/html": [
       "<div>\n",
       "<style scoped>\n",
       "    .dataframe tbody tr th:only-of-type {\n",
       "        vertical-align: middle;\n",
       "    }\n",
       "\n",
       "    .dataframe tbody tr th {\n",
       "        vertical-align: top;\n",
       "    }\n",
       "\n",
       "    .dataframe thead th {\n",
       "        text-align: right;\n",
       "    }\n",
       "</style>\n",
       "<table border=\"1\" class=\"dataframe\">\n",
       "  <thead>\n",
       "    <tr style=\"text-align: right;\">\n",
       "      <th></th>\n",
       "      <th>pizza_type_id</th>\n",
       "      <th>name</th>\n",
       "      <th>category</th>\n",
       "      <th>ingredients</th>\n",
       "    </tr>\n",
       "  </thead>\n",
       "  <tbody>\n",
       "    <tr>\n",
       "      <th>0</th>\n",
       "      <td>bbq_ckn</td>\n",
       "      <td>The Barbecue Chicken Pizza</td>\n",
       "      <td>Chicken</td>\n",
       "      <td>Barbecued Chicken, Red Peppers, Green Peppers,...</td>\n",
       "    </tr>\n",
       "    <tr>\n",
       "      <th>1</th>\n",
       "      <td>cali_ckn</td>\n",
       "      <td>The California Chicken Pizza</td>\n",
       "      <td>Chicken</td>\n",
       "      <td>Chicken, Artichoke, Spinach, Garlic, Jalapeno ...</td>\n",
       "    </tr>\n",
       "    <tr>\n",
       "      <th>2</th>\n",
       "      <td>ckn_alfredo</td>\n",
       "      <td>The Chicken Alfredo Pizza</td>\n",
       "      <td>Chicken</td>\n",
       "      <td>Chicken, Red Onions, Red Peppers, Mushrooms, A...</td>\n",
       "    </tr>\n",
       "    <tr>\n",
       "      <th>3</th>\n",
       "      <td>ckn_pesto</td>\n",
       "      <td>The Chicken Pesto Pizza</td>\n",
       "      <td>Chicken</td>\n",
       "      <td>Chicken, Tomatoes, Red Peppers, Spinach, Garli...</td>\n",
       "    </tr>\n",
       "    <tr>\n",
       "      <th>4</th>\n",
       "      <td>southw_ckn</td>\n",
       "      <td>The Southwest Chicken Pizza</td>\n",
       "      <td>Chicken</td>\n",
       "      <td>Chicken, Tomatoes, Red Peppers, Red Onions, Ja...</td>\n",
       "    </tr>\n",
       "  </tbody>\n",
       "</table>\n",
       "</div>"
      ],
      "text/plain": [
       "  pizza_type_id                          name category  \\\n",
       "0       bbq_ckn    The Barbecue Chicken Pizza  Chicken   \n",
       "1      cali_ckn  The California Chicken Pizza  Chicken   \n",
       "2   ckn_alfredo     The Chicken Alfredo Pizza  Chicken   \n",
       "3     ckn_pesto       The Chicken Pesto Pizza  Chicken   \n",
       "4    southw_ckn   The Southwest Chicken Pizza  Chicken   \n",
       "\n",
       "                                         ingredients  \n",
       "0  Barbecued Chicken, Red Peppers, Green Peppers,...  \n",
       "1  Chicken, Artichoke, Spinach, Garlic, Jalapeno ...  \n",
       "2  Chicken, Red Onions, Red Peppers, Mushrooms, A...  \n",
       "3  Chicken, Tomatoes, Red Peppers, Spinach, Garli...  \n",
       "4  Chicken, Tomatoes, Red Peppers, Red Onions, Ja...  "
      ]
     },
     "execution_count": 210,
     "metadata": {},
     "output_type": "execute_result"
    }
   ],
   "source": [
    "# pizza_types DataFrame\n",
    "\n",
    "pizza_types_df.head()"
   ]
  },
  {
   "cell_type": "code",
   "execution_count": 211,
   "id": "168fac49-3e8b-49bc-93e4-d3b467845911",
   "metadata": {},
   "outputs": [
    {
     "name": "stdout",
     "output_type": "stream",
     "text": [
      "<class 'pandas.core.frame.DataFrame'>\n",
      "RangeIndex: 32 entries, 0 to 31\n",
      "Data columns (total 4 columns):\n",
      " #   Column         Non-Null Count  Dtype \n",
      "---  ------         --------------  ----- \n",
      " 0   pizza_type_id  32 non-null     object\n",
      " 1   name           32 non-null     object\n",
      " 2   category       32 non-null     object\n",
      " 3   ingredients    32 non-null     object\n",
      "dtypes: object(4)\n",
      "memory usage: 1.1+ KB\n"
     ]
    }
   ],
   "source": [
    "pizza_types_df.info()"
   ]
  },
  {
   "cell_type": "code",
   "execution_count": 212,
   "id": "bd5fe82d-defe-4c94-bcec-9b57c0f80648",
   "metadata": {},
   "outputs": [],
   "source": [
    "# They all seem to be without null values"
   ]
  },
  {
   "cell_type": "markdown",
   "id": "ea2a27a6-3c5e-4594-bbe3-20e3fb5f98a7",
   "metadata": {
    "jp-MarkdownHeadingCollapsed": true
   },
   "source": [
    "## Let's MERGE the four datasets into One DataFrame..."
   ]
  },
  {
   "cell_type": "code",
   "execution_count": 213,
   "id": "0c698beb-f35f-4336-b2ae-85e039b5e740",
   "metadata": {},
   "outputs": [
    {
     "data": {
      "text/html": [
       "<div>\n",
       "<style scoped>\n",
       "    .dataframe tbody tr th:only-of-type {\n",
       "        vertical-align: middle;\n",
       "    }\n",
       "\n",
       "    .dataframe tbody tr th {\n",
       "        vertical-align: top;\n",
       "    }\n",
       "\n",
       "    .dataframe thead th {\n",
       "        text-align: right;\n",
       "    }\n",
       "</style>\n",
       "<table border=\"1\" class=\"dataframe\">\n",
       "  <thead>\n",
       "    <tr style=\"text-align: right;\">\n",
       "      <th></th>\n",
       "      <th>order_details_id</th>\n",
       "      <th>order_id</th>\n",
       "      <th>pizza_id</th>\n",
       "      <th>quantity</th>\n",
       "      <th>date</th>\n",
       "      <th>time</th>\n",
       "    </tr>\n",
       "  </thead>\n",
       "  <tbody>\n",
       "    <tr>\n",
       "      <th>0</th>\n",
       "      <td>1</td>\n",
       "      <td>1</td>\n",
       "      <td>hawaiian_m</td>\n",
       "      <td>1</td>\n",
       "      <td>2015-01-01</td>\n",
       "      <td>11:38:36</td>\n",
       "    </tr>\n",
       "    <tr>\n",
       "      <th>1</th>\n",
       "      <td>2</td>\n",
       "      <td>2</td>\n",
       "      <td>classic_dlx_m</td>\n",
       "      <td>1</td>\n",
       "      <td>2015-01-01</td>\n",
       "      <td>11:57:40</td>\n",
       "    </tr>\n",
       "    <tr>\n",
       "      <th>2</th>\n",
       "      <td>3</td>\n",
       "      <td>2</td>\n",
       "      <td>five_cheese_l</td>\n",
       "      <td>1</td>\n",
       "      <td>2015-01-01</td>\n",
       "      <td>11:57:40</td>\n",
       "    </tr>\n",
       "    <tr>\n",
       "      <th>3</th>\n",
       "      <td>4</td>\n",
       "      <td>2</td>\n",
       "      <td>ital_supr_l</td>\n",
       "      <td>1</td>\n",
       "      <td>2015-01-01</td>\n",
       "      <td>11:57:40</td>\n",
       "    </tr>\n",
       "    <tr>\n",
       "      <th>4</th>\n",
       "      <td>5</td>\n",
       "      <td>2</td>\n",
       "      <td>mexicana_m</td>\n",
       "      <td>1</td>\n",
       "      <td>2015-01-01</td>\n",
       "      <td>11:57:40</td>\n",
       "    </tr>\n",
       "  </tbody>\n",
       "</table>\n",
       "</div>"
      ],
      "text/plain": [
       "   order_details_id  order_id       pizza_id  quantity        date      time\n",
       "0                 1         1     hawaiian_m         1  2015-01-01  11:38:36\n",
       "1                 2         2  classic_dlx_m         1  2015-01-01  11:57:40\n",
       "2                 3         2  five_cheese_l         1  2015-01-01  11:57:40\n",
       "3                 4         2    ital_supr_l         1  2015-01-01  11:57:40\n",
       "4                 5         2     mexicana_m         1  2015-01-01  11:57:40"
      ]
     },
     "execution_count": 213,
     "metadata": {},
     "output_type": "execute_result"
    }
   ],
   "source": [
    "# Merging the orders DF and the order_details DF:\n",
    "\n",
    "merged_pizza_df = pd.merge(order_details_df, orders_df, on=\"order_id\", how=\"left\")\n",
    "merged_pizza_df.head()"
   ]
  },
  {
   "cell_type": "code",
   "execution_count": 214,
   "id": "77a21508-4b88-4b5c-a766-367a3326d3ac",
   "metadata": {},
   "outputs": [
    {
     "data": {
      "text/html": [
       "<div>\n",
       "<style scoped>\n",
       "    .dataframe tbody tr th:only-of-type {\n",
       "        vertical-align: middle;\n",
       "    }\n",
       "\n",
       "    .dataframe tbody tr th {\n",
       "        vertical-align: top;\n",
       "    }\n",
       "\n",
       "    .dataframe thead th {\n",
       "        text-align: right;\n",
       "    }\n",
       "</style>\n",
       "<table border=\"1\" class=\"dataframe\">\n",
       "  <thead>\n",
       "    <tr style=\"text-align: right;\">\n",
       "      <th></th>\n",
       "      <th>order_details_id</th>\n",
       "      <th>order_id</th>\n",
       "      <th>pizza_id</th>\n",
       "      <th>quantity</th>\n",
       "      <th>date</th>\n",
       "      <th>time</th>\n",
       "      <th>pizza_type_id</th>\n",
       "      <th>size</th>\n",
       "      <th>price</th>\n",
       "    </tr>\n",
       "  </thead>\n",
       "  <tbody>\n",
       "    <tr>\n",
       "      <th>0</th>\n",
       "      <td>1</td>\n",
       "      <td>1</td>\n",
       "      <td>hawaiian_m</td>\n",
       "      <td>1</td>\n",
       "      <td>2015-01-01</td>\n",
       "      <td>11:38:36</td>\n",
       "      <td>hawaiian</td>\n",
       "      <td>M</td>\n",
       "      <td>13.25</td>\n",
       "    </tr>\n",
       "    <tr>\n",
       "      <th>1</th>\n",
       "      <td>2</td>\n",
       "      <td>2</td>\n",
       "      <td>classic_dlx_m</td>\n",
       "      <td>1</td>\n",
       "      <td>2015-01-01</td>\n",
       "      <td>11:57:40</td>\n",
       "      <td>classic_dlx</td>\n",
       "      <td>M</td>\n",
       "      <td>16.00</td>\n",
       "    </tr>\n",
       "    <tr>\n",
       "      <th>2</th>\n",
       "      <td>3</td>\n",
       "      <td>2</td>\n",
       "      <td>five_cheese_l</td>\n",
       "      <td>1</td>\n",
       "      <td>2015-01-01</td>\n",
       "      <td>11:57:40</td>\n",
       "      <td>five_cheese</td>\n",
       "      <td>L</td>\n",
       "      <td>18.50</td>\n",
       "    </tr>\n",
       "    <tr>\n",
       "      <th>3</th>\n",
       "      <td>4</td>\n",
       "      <td>2</td>\n",
       "      <td>ital_supr_l</td>\n",
       "      <td>1</td>\n",
       "      <td>2015-01-01</td>\n",
       "      <td>11:57:40</td>\n",
       "      <td>ital_supr</td>\n",
       "      <td>L</td>\n",
       "      <td>20.75</td>\n",
       "    </tr>\n",
       "    <tr>\n",
       "      <th>4</th>\n",
       "      <td>5</td>\n",
       "      <td>2</td>\n",
       "      <td>mexicana_m</td>\n",
       "      <td>1</td>\n",
       "      <td>2015-01-01</td>\n",
       "      <td>11:57:40</td>\n",
       "      <td>mexicana</td>\n",
       "      <td>M</td>\n",
       "      <td>16.00</td>\n",
       "    </tr>\n",
       "  </tbody>\n",
       "</table>\n",
       "</div>"
      ],
      "text/plain": [
       "   order_details_id  order_id       pizza_id  quantity        date      time  \\\n",
       "0                 1         1     hawaiian_m         1  2015-01-01  11:38:36   \n",
       "1                 2         2  classic_dlx_m         1  2015-01-01  11:57:40   \n",
       "2                 3         2  five_cheese_l         1  2015-01-01  11:57:40   \n",
       "3                 4         2    ital_supr_l         1  2015-01-01  11:57:40   \n",
       "4                 5         2     mexicana_m         1  2015-01-01  11:57:40   \n",
       "\n",
       "  pizza_type_id size  price  \n",
       "0      hawaiian    M  13.25  \n",
       "1   classic_dlx    M  16.00  \n",
       "2   five_cheese    L  18.50  \n",
       "3     ital_supr    L  20.75  \n",
       "4      mexicana    M  16.00  "
      ]
     },
     "execution_count": 214,
     "metadata": {},
     "output_type": "execute_result"
    }
   ],
   "source": [
    "# Merging the pizzas DF to the merged_pizza DF\n",
    "\n",
    "merged_pizza_df = pd.merge(merged_pizza_df, pizzas_df, on=\"pizza_id\", how=\"left\")\n",
    "merged_pizza_df.head()"
   ]
  },
  {
   "cell_type": "code",
   "execution_count": 215,
   "id": "128052cb-c241-465a-af0a-f2ea9e9daf5f",
   "metadata": {},
   "outputs": [
    {
     "data": {
      "text/html": [
       "<div>\n",
       "<style scoped>\n",
       "    .dataframe tbody tr th:only-of-type {\n",
       "        vertical-align: middle;\n",
       "    }\n",
       "\n",
       "    .dataframe tbody tr th {\n",
       "        vertical-align: top;\n",
       "    }\n",
       "\n",
       "    .dataframe thead th {\n",
       "        text-align: right;\n",
       "    }\n",
       "</style>\n",
       "<table border=\"1\" class=\"dataframe\">\n",
       "  <thead>\n",
       "    <tr style=\"text-align: right;\">\n",
       "      <th></th>\n",
       "      <th>order_details_id</th>\n",
       "      <th>order_id</th>\n",
       "      <th>pizza_id</th>\n",
       "      <th>quantity</th>\n",
       "      <th>date</th>\n",
       "      <th>time</th>\n",
       "      <th>pizza_type_id</th>\n",
       "      <th>size</th>\n",
       "      <th>price</th>\n",
       "      <th>name</th>\n",
       "      <th>category</th>\n",
       "      <th>ingredients</th>\n",
       "    </tr>\n",
       "  </thead>\n",
       "  <tbody>\n",
       "    <tr>\n",
       "      <th>0</th>\n",
       "      <td>1</td>\n",
       "      <td>1</td>\n",
       "      <td>hawaiian_m</td>\n",
       "      <td>1</td>\n",
       "      <td>2015-01-01</td>\n",
       "      <td>11:38:36</td>\n",
       "      <td>hawaiian</td>\n",
       "      <td>M</td>\n",
       "      <td>13.25</td>\n",
       "      <td>The Hawaiian Pizza</td>\n",
       "      <td>Classic</td>\n",
       "      <td>Sliced Ham, Pineapple, Mozzarella Cheese</td>\n",
       "    </tr>\n",
       "    <tr>\n",
       "      <th>1</th>\n",
       "      <td>2</td>\n",
       "      <td>2</td>\n",
       "      <td>classic_dlx_m</td>\n",
       "      <td>1</td>\n",
       "      <td>2015-01-01</td>\n",
       "      <td>11:57:40</td>\n",
       "      <td>classic_dlx</td>\n",
       "      <td>M</td>\n",
       "      <td>16.00</td>\n",
       "      <td>The Classic Deluxe Pizza</td>\n",
       "      <td>Classic</td>\n",
       "      <td>Pepperoni, Mushrooms, Red Onions, Red Peppers,...</td>\n",
       "    </tr>\n",
       "    <tr>\n",
       "      <th>2</th>\n",
       "      <td>3</td>\n",
       "      <td>2</td>\n",
       "      <td>five_cheese_l</td>\n",
       "      <td>1</td>\n",
       "      <td>2015-01-01</td>\n",
       "      <td>11:57:40</td>\n",
       "      <td>five_cheese</td>\n",
       "      <td>L</td>\n",
       "      <td>18.50</td>\n",
       "      <td>The Five Cheese Pizza</td>\n",
       "      <td>Veggie</td>\n",
       "      <td>Mozzarella Cheese, Provolone Cheese, Smoked Go...</td>\n",
       "    </tr>\n",
       "    <tr>\n",
       "      <th>3</th>\n",
       "      <td>4</td>\n",
       "      <td>2</td>\n",
       "      <td>ital_supr_l</td>\n",
       "      <td>1</td>\n",
       "      <td>2015-01-01</td>\n",
       "      <td>11:57:40</td>\n",
       "      <td>ital_supr</td>\n",
       "      <td>L</td>\n",
       "      <td>20.75</td>\n",
       "      <td>The Italian Supreme Pizza</td>\n",
       "      <td>Supreme</td>\n",
       "      <td>Calabrese Salami, Capocollo, Tomatoes, Red Oni...</td>\n",
       "    </tr>\n",
       "    <tr>\n",
       "      <th>4</th>\n",
       "      <td>5</td>\n",
       "      <td>2</td>\n",
       "      <td>mexicana_m</td>\n",
       "      <td>1</td>\n",
       "      <td>2015-01-01</td>\n",
       "      <td>11:57:40</td>\n",
       "      <td>mexicana</td>\n",
       "      <td>M</td>\n",
       "      <td>16.00</td>\n",
       "      <td>The Mexicana Pizza</td>\n",
       "      <td>Veggie</td>\n",
       "      <td>Tomatoes, Red Peppers, Jalapeno Peppers, Red O...</td>\n",
       "    </tr>\n",
       "  </tbody>\n",
       "</table>\n",
       "</div>"
      ],
      "text/plain": [
       "   order_details_id  order_id       pizza_id  quantity        date      time  \\\n",
       "0                 1         1     hawaiian_m         1  2015-01-01  11:38:36   \n",
       "1                 2         2  classic_dlx_m         1  2015-01-01  11:57:40   \n",
       "2                 3         2  five_cheese_l         1  2015-01-01  11:57:40   \n",
       "3                 4         2    ital_supr_l         1  2015-01-01  11:57:40   \n",
       "4                 5         2     mexicana_m         1  2015-01-01  11:57:40   \n",
       "\n",
       "  pizza_type_id size  price                       name category  \\\n",
       "0      hawaiian    M  13.25         The Hawaiian Pizza  Classic   \n",
       "1   classic_dlx    M  16.00   The Classic Deluxe Pizza  Classic   \n",
       "2   five_cheese    L  18.50      The Five Cheese Pizza   Veggie   \n",
       "3     ital_supr    L  20.75  The Italian Supreme Pizza  Supreme   \n",
       "4      mexicana    M  16.00         The Mexicana Pizza   Veggie   \n",
       "\n",
       "                                         ingredients  \n",
       "0           Sliced Ham, Pineapple, Mozzarella Cheese  \n",
       "1  Pepperoni, Mushrooms, Red Onions, Red Peppers,...  \n",
       "2  Mozzarella Cheese, Provolone Cheese, Smoked Go...  \n",
       "3  Calabrese Salami, Capocollo, Tomatoes, Red Oni...  \n",
       "4  Tomatoes, Red Peppers, Jalapeno Peppers, Red O...  "
      ]
     },
     "execution_count": 215,
     "metadata": {},
     "output_type": "execute_result"
    }
   ],
   "source": [
    "# Merging the pizza_types DF to the merged_pizza DF\n",
    "\n",
    "merged_pizza_df = pd.merge(merged_pizza_df, pizza_types_df, on=\"pizza_type_id\", how=\"left\")\n",
    "merged_pizza_df.head()"
   ]
  },
  {
   "cell_type": "markdown",
   "id": "1d91bb37-a6dd-45e7-81a7-25c62648861e",
   "metadata": {
    "jp-MarkdownHeadingCollapsed": true
   },
   "source": [
    "## Viewing the summary of the overall DataFrame now..."
   ]
  },
  {
   "cell_type": "code",
   "execution_count": 216,
   "id": "27948f3f-10c5-49a6-8579-18f7502b99e9",
   "metadata": {},
   "outputs": [
    {
     "name": "stdout",
     "output_type": "stream",
     "text": [
      "<class 'pandas.core.frame.DataFrame'>\n",
      "RangeIndex: 48620 entries, 0 to 48619\n",
      "Data columns (total 12 columns):\n",
      " #   Column            Non-Null Count  Dtype  \n",
      "---  ------            --------------  -----  \n",
      " 0   order_details_id  48620 non-null  int64  \n",
      " 1   order_id          48620 non-null  int64  \n",
      " 2   pizza_id          48620 non-null  object \n",
      " 3   quantity          48620 non-null  int64  \n",
      " 4   date              48620 non-null  object \n",
      " 5   time              48620 non-null  object \n",
      " 6   pizza_type_id     48620 non-null  object \n",
      " 7   size              48620 non-null  object \n",
      " 8   price             48620 non-null  float64\n",
      " 9   name              48620 non-null  object \n",
      " 10  category          48620 non-null  object \n",
      " 11  ingredients       48620 non-null  object \n",
      "dtypes: float64(1), int64(3), object(8)\n",
      "memory usage: 4.5+ MB\n"
     ]
    }
   ],
   "source": [
    "merged_pizza_df.info()"
   ]
  },
  {
   "cell_type": "code",
   "execution_count": 217,
   "id": "4b9ea619-2069-4141-b6ba-2842770321a8",
   "metadata": {},
   "outputs": [
    {
     "data": {
      "text/plain": [
       "order_details_id    0\n",
       "order_id            0\n",
       "pizza_id            0\n",
       "quantity            0\n",
       "date                0\n",
       "time                0\n",
       "pizza_type_id       0\n",
       "size                0\n",
       "price               0\n",
       "name                0\n",
       "category            0\n",
       "ingredients         0\n",
       "dtype: int64"
      ]
     },
     "execution_count": 217,
     "metadata": {},
     "output_type": "execute_result"
    }
   ],
   "source": [
    "# Checking for null values\n",
    "\n",
    "merged_pizza_df.isna().sum()"
   ]
  },
  {
   "cell_type": "code",
   "execution_count": 218,
   "id": "13634365-6932-4757-80c8-4152d87f9da8",
   "metadata": {},
   "outputs": [
    {
     "data": {
      "text/plain": [
       "np.int64(0)"
      ]
     },
     "execution_count": 218,
     "metadata": {},
     "output_type": "execute_result"
    }
   ],
   "source": [
    "# Checking for duplicates\n",
    "\n",
    "merged_pizza_df.duplicated().sum()"
   ]
  },
  {
   "cell_type": "markdown",
   "id": "8438e896-ca06-4930-aff2-1cc2154892e5",
   "metadata": {},
   "source": [
    "- NO null values in the entire DataFrame\n",
    "- NO duplicates\n",
    "- All EXCEPT the **date** and **time** columns seem to be in the right data format"
   ]
  },
  {
   "cell_type": "markdown",
   "id": "ed6b39db-6095-4386-bd92-e6f41ad3e55e",
   "metadata": {
    "jp-MarkdownHeadingCollapsed": true
   },
   "source": [
    "## Our data seems clean enough..."
   ]
  },
  {
   "cell_type": "code",
   "execution_count": 219,
   "id": "2d362124-9392-4330-a623-a99da55aaeb2",
   "metadata": {},
   "outputs": [
    {
     "name": "stdout",
     "output_type": "stream",
     "text": [
      "<class 'pandas.core.frame.DataFrame'>\n",
      "RangeIndex: 48620 entries, 0 to 48619\n",
      "Data columns (total 12 columns):\n",
      " #   Column            Non-Null Count  Dtype  \n",
      "---  ------            --------------  -----  \n",
      " 0   order_details_id  48620 non-null  int64  \n",
      " 1   order_id          48620 non-null  int64  \n",
      " 2   pizza_id          48620 non-null  object \n",
      " 3   quantity          48620 non-null  int64  \n",
      " 4   date              48620 non-null  object \n",
      " 5   time              48620 non-null  object \n",
      " 6   pizza_type_id     48620 non-null  object \n",
      " 7   size              48620 non-null  object \n",
      " 8   price             48620 non-null  float64\n",
      " 9   name              48620 non-null  object \n",
      " 10  category          48620 non-null  object \n",
      " 11  ingredients       48620 non-null  object \n",
      "dtypes: float64(1), int64(3), object(8)\n",
      "memory usage: 4.5+ MB\n"
     ]
    }
   ],
   "source": [
    "merged_pizza_df.info()"
   ]
  },
  {
   "cell_type": "markdown",
   "id": "c511ef15-2c8e-4c3d-b74b-d5f7534abd01",
   "metadata": {
    "jp-MarkdownHeadingCollapsed": true
   },
   "source": [
    "## 1. Total Revenue"
   ]
  },
  {
   "cell_type": "code",
   "execution_count": 220,
   "id": "683e4282-1803-4fa2-bc5c-5adcc47ca3ea",
   "metadata": {},
   "outputs": [
    {
     "data": {
      "text/html": [
       "<div>\n",
       "<style scoped>\n",
       "    .dataframe tbody tr th:only-of-type {\n",
       "        vertical-align: middle;\n",
       "    }\n",
       "\n",
       "    .dataframe tbody tr th {\n",
       "        vertical-align: top;\n",
       "    }\n",
       "\n",
       "    .dataframe thead th {\n",
       "        text-align: right;\n",
       "    }\n",
       "</style>\n",
       "<table border=\"1\" class=\"dataframe\">\n",
       "  <thead>\n",
       "    <tr style=\"text-align: right;\">\n",
       "      <th></th>\n",
       "      <th>order_details_id</th>\n",
       "      <th>order_id</th>\n",
       "      <th>pizza_id</th>\n",
       "      <th>quantity</th>\n",
       "      <th>date</th>\n",
       "      <th>time</th>\n",
       "      <th>pizza_type_id</th>\n",
       "      <th>size</th>\n",
       "      <th>price</th>\n",
       "      <th>name</th>\n",
       "      <th>category</th>\n",
       "      <th>ingredients</th>\n",
       "    </tr>\n",
       "  </thead>\n",
       "  <tbody>\n",
       "    <tr>\n",
       "      <th>0</th>\n",
       "      <td>1</td>\n",
       "      <td>1</td>\n",
       "      <td>hawaiian_m</td>\n",
       "      <td>1</td>\n",
       "      <td>2015-01-01</td>\n",
       "      <td>11:38:36</td>\n",
       "      <td>hawaiian</td>\n",
       "      <td>M</td>\n",
       "      <td>13.25</td>\n",
       "      <td>The Hawaiian Pizza</td>\n",
       "      <td>Classic</td>\n",
       "      <td>Sliced Ham, Pineapple, Mozzarella Cheese</td>\n",
       "    </tr>\n",
       "    <tr>\n",
       "      <th>1</th>\n",
       "      <td>2</td>\n",
       "      <td>2</td>\n",
       "      <td>classic_dlx_m</td>\n",
       "      <td>1</td>\n",
       "      <td>2015-01-01</td>\n",
       "      <td>11:57:40</td>\n",
       "      <td>classic_dlx</td>\n",
       "      <td>M</td>\n",
       "      <td>16.00</td>\n",
       "      <td>The Classic Deluxe Pizza</td>\n",
       "      <td>Classic</td>\n",
       "      <td>Pepperoni, Mushrooms, Red Onions, Red Peppers,...</td>\n",
       "    </tr>\n",
       "    <tr>\n",
       "      <th>2</th>\n",
       "      <td>3</td>\n",
       "      <td>2</td>\n",
       "      <td>five_cheese_l</td>\n",
       "      <td>1</td>\n",
       "      <td>2015-01-01</td>\n",
       "      <td>11:57:40</td>\n",
       "      <td>five_cheese</td>\n",
       "      <td>L</td>\n",
       "      <td>18.50</td>\n",
       "      <td>The Five Cheese Pizza</td>\n",
       "      <td>Veggie</td>\n",
       "      <td>Mozzarella Cheese, Provolone Cheese, Smoked Go...</td>\n",
       "    </tr>\n",
       "  </tbody>\n",
       "</table>\n",
       "</div>"
      ],
      "text/plain": [
       "   order_details_id  order_id       pizza_id  quantity        date      time  \\\n",
       "0                 1         1     hawaiian_m         1  2015-01-01  11:38:36   \n",
       "1                 2         2  classic_dlx_m         1  2015-01-01  11:57:40   \n",
       "2                 3         2  five_cheese_l         1  2015-01-01  11:57:40   \n",
       "\n",
       "  pizza_type_id size  price                      name category  \\\n",
       "0      hawaiian    M  13.25        The Hawaiian Pizza  Classic   \n",
       "1   classic_dlx    M  16.00  The Classic Deluxe Pizza  Classic   \n",
       "2   five_cheese    L  18.50     The Five Cheese Pizza   Veggie   \n",
       "\n",
       "                                         ingredients  \n",
       "0           Sliced Ham, Pineapple, Mozzarella Cheese  \n",
       "1  Pepperoni, Mushrooms, Red Onions, Red Peppers,...  \n",
       "2  Mozzarella Cheese, Provolone Cheese, Smoked Go...  "
      ]
     },
     "execution_count": 220,
     "metadata": {},
     "output_type": "execute_result"
    }
   ],
   "source": [
    "merged_pizza_df.head(3)"
   ]
  },
  {
   "cell_type": "markdown",
   "id": "373053df-568a-4320-840e-3f5fb91dc23c",
   "metadata": {},
   "source": [
    "**a.** We don't have a Sales column from which we'll calculate the total revenue made. LET'S CREATE ONE..."
   ]
  },
  {
   "cell_type": "code",
   "execution_count": 221,
   "id": "c2bd6d1d-0fb8-46ed-b917-8d9c16579fe7",
   "metadata": {},
   "outputs": [
    {
     "data": {
      "text/html": [
       "<div>\n",
       "<style scoped>\n",
       "    .dataframe tbody tr th:only-of-type {\n",
       "        vertical-align: middle;\n",
       "    }\n",
       "\n",
       "    .dataframe tbody tr th {\n",
       "        vertical-align: top;\n",
       "    }\n",
       "\n",
       "    .dataframe thead th {\n",
       "        text-align: right;\n",
       "    }\n",
       "</style>\n",
       "<table border=\"1\" class=\"dataframe\">\n",
       "  <thead>\n",
       "    <tr style=\"text-align: right;\">\n",
       "      <th></th>\n",
       "      <th>order_details_id</th>\n",
       "      <th>order_id</th>\n",
       "      <th>pizza_id</th>\n",
       "      <th>quantity</th>\n",
       "      <th>date</th>\n",
       "      <th>time</th>\n",
       "      <th>pizza_type_id</th>\n",
       "      <th>size</th>\n",
       "      <th>price</th>\n",
       "      <th>name</th>\n",
       "      <th>category</th>\n",
       "      <th>ingredients</th>\n",
       "      <th>sales</th>\n",
       "    </tr>\n",
       "  </thead>\n",
       "  <tbody>\n",
       "    <tr>\n",
       "      <th>5386</th>\n",
       "      <td>5387</td>\n",
       "      <td>2380</td>\n",
       "      <td>napolitana_m</td>\n",
       "      <td>1</td>\n",
       "      <td>2015-02-09</td>\n",
       "      <td>16:22:26</td>\n",
       "      <td>napolitana</td>\n",
       "      <td>M</td>\n",
       "      <td>16.00</td>\n",
       "      <td>The Napolitana Pizza</td>\n",
       "      <td>Classic</td>\n",
       "      <td>Tomatoes, Anchovies, Green Olives, Red Onions,...</td>\n",
       "      <td>16.00</td>\n",
       "    </tr>\n",
       "    <tr>\n",
       "      <th>47186</th>\n",
       "      <td>47187</td>\n",
       "      <td>20739</td>\n",
       "      <td>pepperoni_m</td>\n",
       "      <td>1</td>\n",
       "      <td>2015-12-18</td>\n",
       "      <td>18:06:56</td>\n",
       "      <td>pepperoni</td>\n",
       "      <td>M</td>\n",
       "      <td>12.50</td>\n",
       "      <td>The Pepperoni Pizza</td>\n",
       "      <td>Classic</td>\n",
       "      <td>Mozzarella Cheese, Pepperoni</td>\n",
       "      <td>12.50</td>\n",
       "    </tr>\n",
       "    <tr>\n",
       "      <th>9629</th>\n",
       "      <td>9630</td>\n",
       "      <td>4220</td>\n",
       "      <td>mediterraneo_l</td>\n",
       "      <td>1</td>\n",
       "      <td>2015-03-12</td>\n",
       "      <td>18:55:05</td>\n",
       "      <td>mediterraneo</td>\n",
       "      <td>L</td>\n",
       "      <td>20.25</td>\n",
       "      <td>The Mediterranean Pizza</td>\n",
       "      <td>Veggie</td>\n",
       "      <td>Spinach, Artichokes, Kalamata Olives, Sun-drie...</td>\n",
       "      <td>20.25</td>\n",
       "    </tr>\n",
       "  </tbody>\n",
       "</table>\n",
       "</div>"
      ],
      "text/plain": [
       "       order_details_id  order_id        pizza_id  quantity        date  \\\n",
       "5386               5387      2380    napolitana_m         1  2015-02-09   \n",
       "47186             47187     20739     pepperoni_m         1  2015-12-18   \n",
       "9629               9630      4220  mediterraneo_l         1  2015-03-12   \n",
       "\n",
       "           time pizza_type_id size  price                     name category  \\\n",
       "5386   16:22:26    napolitana    M  16.00     The Napolitana Pizza  Classic   \n",
       "47186  18:06:56     pepperoni    M  12.50      The Pepperoni Pizza  Classic   \n",
       "9629   18:55:05  mediterraneo    L  20.25  The Mediterranean Pizza   Veggie   \n",
       "\n",
       "                                             ingredients  sales  \n",
       "5386   Tomatoes, Anchovies, Green Olives, Red Onions,...  16.00  \n",
       "47186                       Mozzarella Cheese, Pepperoni  12.50  \n",
       "9629   Spinach, Artichokes, Kalamata Olives, Sun-drie...  20.25  "
      ]
     },
     "execution_count": 221,
     "metadata": {},
     "output_type": "execute_result"
    }
   ],
   "source": [
    "# sales column = price * quantity\n",
    "\n",
    "merged_pizza_df[\"sales\"] = merged_pizza_df[\"price\"] * merged_pizza_df[\"quantity\"]\n",
    "\n",
    "merged_pizza_df.sample(3)"
   ]
  },
  {
   "cell_type": "code",
   "execution_count": 222,
   "id": "71f4580a-2bfd-4597-ad8f-ac4d4703dd3a",
   "metadata": {},
   "outputs": [
    {
     "data": {
      "text/plain": [
       "np.float64(817860.05)"
      ]
     },
     "execution_count": 222,
     "metadata": {},
     "output_type": "execute_result"
    }
   ],
   "source": [
    "total_revenue = merged_pizza_df[\"sales\"].sum()\n",
    "total_revenue"
   ]
  },
  {
   "cell_type": "code",
   "execution_count": 223,
   "id": "f27e91da-ee72-4a32-af89-b5634aea1768",
   "metadata": {},
   "outputs": [
    {
     "name": "stdout",
     "output_type": "stream",
     "text": [
      "===TOTAL REVENUE=== \n",
      "$817860.05\n"
     ]
    }
   ],
   "source": [
    "print(f\"===TOTAL REVENUE=== \\n${total_revenue:.2f}\")"
   ]
  },
  {
   "cell_type": "markdown",
   "id": "39918e4c-6d04-4281-935d-996def50966e",
   "metadata": {
    "jp-MarkdownHeadingCollapsed": true
   },
   "source": [
    "## 2. Total Quantity Sold"
   ]
  },
  {
   "cell_type": "code",
   "execution_count": 224,
   "id": "b2f5e02b-3c2b-4fad-b269-1a8d80509870",
   "metadata": {},
   "outputs": [
    {
     "name": "stdout",
     "output_type": "stream",
     "text": [
      "===Total Pizzas Sold=== \n",
      "49574 boxes\n"
     ]
    }
   ],
   "source": [
    "total_quantity = merged_pizza_df[\"quantity\"].sum()\n",
    "\n",
    "print(f\"===Total Pizzas Sold=== \\n{total_quantity} boxes\")"
   ]
  },
  {
   "cell_type": "markdown",
   "id": "37d56dcb-e019-4b7c-b021-2d9921951631",
   "metadata": {
    "jp-MarkdownHeadingCollapsed": true
   },
   "source": [
    "## 3. Total Orders"
   ]
  },
  {
   "cell_type": "markdown",
   "id": "01b3b2db-5ae5-4cc7-be75-be66038246b0",
   "metadata": {},
   "source": [
    "**a.** The order_id column contains all transactions made... Every order has a unique id, irrespective of how many items were bought."
   ]
  },
  {
   "cell_type": "code",
   "execution_count": 225,
   "id": "966711d1-d489-4db6-a8da-a3afc37c3d71",
   "metadata": {},
   "outputs": [
    {
     "name": "stdout",
     "output_type": "stream",
     "text": [
      "===Total Orders=== \n",
      "21350 orders\n"
     ]
    }
   ],
   "source": [
    "total_orders = merged_pizza_df[\"order_id\"].value_counts().count() # let's count each unique order id...\n",
    "\n",
    "print(f\"===Total Orders=== \\n{total_orders} orders\")"
   ]
  },
  {
   "cell_type": "markdown",
   "id": "ee43a1c8-2767-482a-8a51-4313f38248de",
   "metadata": {
    "jp-MarkdownHeadingCollapsed": true
   },
   "source": [
    "## 4. Total Pizza Types Sold"
   ]
  },
  {
   "cell_type": "markdown",
   "id": "fa090d40-ff5b-42f3-8aef-61d93acaa6d8",
   "metadata": {},
   "source": [
    "NO TWO pizzas have the same:\n",
    "- name\n",
    "- pizza_type_id"
   ]
  },
  {
   "cell_type": "code",
   "execution_count": 226,
   "id": "21a8d07f-1409-4c33-8fa0-241c4d512399",
   "metadata": {},
   "outputs": [
    {
     "name": "stdout",
     "output_type": "stream",
     "text": [
      "===Total Pizza Types Being Sold=== \n",
      "32 types\n"
     ]
    }
   ],
   "source": [
    "# Using the pizza_type_id column\n",
    "\n",
    "pizza_types_count = merged_pizza_df[\"pizza_type_id\"].value_counts().count()\n",
    "\n",
    "print(f\"===Total Pizza Types Being Sold=== \\n{pizza_types_count} types\")"
   ]
  },
  {
   "cell_type": "markdown",
   "id": "23c99e3a-f330-4220-8fae-2e97723ed86b",
   "metadata": {
    "jp-MarkdownHeadingCollapsed": true
   },
   "source": [
    "## 5. Average Pizza Price"
   ]
  },
  {
   "cell_type": "markdown",
   "id": "88aec30f-6ffa-4a0c-9488-b0d6dc966fa2",
   "metadata": {},
   "source": [
    "Using the **price** column, we can get our average price"
   ]
  },
  {
   "cell_type": "markdown",
   "id": "71893f02-f4a2-493e-9ff9-5708c54701be",
   "metadata": {},
   "source": [
    "**a.** We only need the unique price of each pizza, not duplicates of the same item... We can remove the duplicates while trying to find our mean price for ***each pizza***"
   ]
  },
  {
   "cell_type": "code",
   "execution_count": 227,
   "id": "eec857c0-9ca1-4881-bff2-383d6c8f2839",
   "metadata": {},
   "outputs": [
    {
     "name": "stdout",
     "output_type": "stream",
     "text": [
      "===Average Pizza Price=== \n",
      "$16.51\n"
     ]
    }
   ],
   "source": [
    "average_price = merged_pizza_df.drop_duplicates(subset=[\"pizza_id\"])[\"price\"].mean()\n",
    "\n",
    "print(f\"===Average Pizza Price=== \\n${average_price:.2f}\")"
   ]
  },
  {
   "cell_type": "markdown",
   "id": "dea9aaa7-d167-4914-a3a7-d9d93d3b2032",
   "metadata": {},
   "source": [
    "## 6. Peak Hours of Sale"
   ]
  },
  {
   "cell_type": "markdown",
   "id": "665f4152-adea-48cd-a92d-5f919a4099f4",
   "metadata": {},
   "source": [
    "**a.** We need to extract the hour from the time column"
   ]
  },
  {
   "cell_type": "markdown",
   "id": "196ccdd8-a468-4e5e-bae3-89b902244bbf",
   "metadata": {},
   "source": [
    "**b.** First though, let's create a single column for our date and time, so we can easily extract date_time properties"
   ]
  },
  {
   "cell_type": "code",
   "execution_count": 228,
   "id": "2d63469e-825a-40c6-b7f2-6e9a00ff07e4",
   "metadata": {},
   "outputs": [
    {
     "data": {
      "text/html": [
       "<div>\n",
       "<style scoped>\n",
       "    .dataframe tbody tr th:only-of-type {\n",
       "        vertical-align: middle;\n",
       "    }\n",
       "\n",
       "    .dataframe tbody tr th {\n",
       "        vertical-align: top;\n",
       "    }\n",
       "\n",
       "    .dataframe thead th {\n",
       "        text-align: right;\n",
       "    }\n",
       "</style>\n",
       "<table border=\"1\" class=\"dataframe\">\n",
       "  <thead>\n",
       "    <tr style=\"text-align: right;\">\n",
       "      <th></th>\n",
       "      <th>order_details_id</th>\n",
       "      <th>order_id</th>\n",
       "      <th>pizza_id</th>\n",
       "      <th>quantity</th>\n",
       "      <th>date</th>\n",
       "      <th>time</th>\n",
       "      <th>pizza_type_id</th>\n",
       "      <th>size</th>\n",
       "      <th>price</th>\n",
       "      <th>name</th>\n",
       "      <th>category</th>\n",
       "      <th>ingredients</th>\n",
       "      <th>sales</th>\n",
       "      <th>date_time</th>\n",
       "    </tr>\n",
       "  </thead>\n",
       "  <tbody>\n",
       "    <tr>\n",
       "      <th>0</th>\n",
       "      <td>1</td>\n",
       "      <td>1</td>\n",
       "      <td>hawaiian_m</td>\n",
       "      <td>1</td>\n",
       "      <td>2015-01-01</td>\n",
       "      <td>11:38:36</td>\n",
       "      <td>hawaiian</td>\n",
       "      <td>M</td>\n",
       "      <td>13.25</td>\n",
       "      <td>The Hawaiian Pizza</td>\n",
       "      <td>Classic</td>\n",
       "      <td>Sliced Ham, Pineapple, Mozzarella Cheese</td>\n",
       "      <td>13.25</td>\n",
       "      <td>2015-01-01 11:38:36</td>\n",
       "    </tr>\n",
       "    <tr>\n",
       "      <th>1</th>\n",
       "      <td>2</td>\n",
       "      <td>2</td>\n",
       "      <td>classic_dlx_m</td>\n",
       "      <td>1</td>\n",
       "      <td>2015-01-01</td>\n",
       "      <td>11:57:40</td>\n",
       "      <td>classic_dlx</td>\n",
       "      <td>M</td>\n",
       "      <td>16.00</td>\n",
       "      <td>The Classic Deluxe Pizza</td>\n",
       "      <td>Classic</td>\n",
       "      <td>Pepperoni, Mushrooms, Red Onions, Red Peppers,...</td>\n",
       "      <td>16.00</td>\n",
       "      <td>2015-01-01 11:57:40</td>\n",
       "    </tr>\n",
       "    <tr>\n",
       "      <th>2</th>\n",
       "      <td>3</td>\n",
       "      <td>2</td>\n",
       "      <td>five_cheese_l</td>\n",
       "      <td>1</td>\n",
       "      <td>2015-01-01</td>\n",
       "      <td>11:57:40</td>\n",
       "      <td>five_cheese</td>\n",
       "      <td>L</td>\n",
       "      <td>18.50</td>\n",
       "      <td>The Five Cheese Pizza</td>\n",
       "      <td>Veggie</td>\n",
       "      <td>Mozzarella Cheese, Provolone Cheese, Smoked Go...</td>\n",
       "      <td>18.50</td>\n",
       "      <td>2015-01-01 11:57:40</td>\n",
       "    </tr>\n",
       "    <tr>\n",
       "      <th>3</th>\n",
       "      <td>4</td>\n",
       "      <td>2</td>\n",
       "      <td>ital_supr_l</td>\n",
       "      <td>1</td>\n",
       "      <td>2015-01-01</td>\n",
       "      <td>11:57:40</td>\n",
       "      <td>ital_supr</td>\n",
       "      <td>L</td>\n",
       "      <td>20.75</td>\n",
       "      <td>The Italian Supreme Pizza</td>\n",
       "      <td>Supreme</td>\n",
       "      <td>Calabrese Salami, Capocollo, Tomatoes, Red Oni...</td>\n",
       "      <td>20.75</td>\n",
       "      <td>2015-01-01 11:57:40</td>\n",
       "    </tr>\n",
       "    <tr>\n",
       "      <th>4</th>\n",
       "      <td>5</td>\n",
       "      <td>2</td>\n",
       "      <td>mexicana_m</td>\n",
       "      <td>1</td>\n",
       "      <td>2015-01-01</td>\n",
       "      <td>11:57:40</td>\n",
       "      <td>mexicana</td>\n",
       "      <td>M</td>\n",
       "      <td>16.00</td>\n",
       "      <td>The Mexicana Pizza</td>\n",
       "      <td>Veggie</td>\n",
       "      <td>Tomatoes, Red Peppers, Jalapeno Peppers, Red O...</td>\n",
       "      <td>16.00</td>\n",
       "      <td>2015-01-01 11:57:40</td>\n",
       "    </tr>\n",
       "  </tbody>\n",
       "</table>\n",
       "</div>"
      ],
      "text/plain": [
       "   order_details_id  order_id       pizza_id  quantity        date      time  \\\n",
       "0                 1         1     hawaiian_m         1  2015-01-01  11:38:36   \n",
       "1                 2         2  classic_dlx_m         1  2015-01-01  11:57:40   \n",
       "2                 3         2  five_cheese_l         1  2015-01-01  11:57:40   \n",
       "3                 4         2    ital_supr_l         1  2015-01-01  11:57:40   \n",
       "4                 5         2     mexicana_m         1  2015-01-01  11:57:40   \n",
       "\n",
       "  pizza_type_id size  price                       name category  \\\n",
       "0      hawaiian    M  13.25         The Hawaiian Pizza  Classic   \n",
       "1   classic_dlx    M  16.00   The Classic Deluxe Pizza  Classic   \n",
       "2   five_cheese    L  18.50      The Five Cheese Pizza   Veggie   \n",
       "3     ital_supr    L  20.75  The Italian Supreme Pizza  Supreme   \n",
       "4      mexicana    M  16.00         The Mexicana Pizza   Veggie   \n",
       "\n",
       "                                         ingredients  sales  \\\n",
       "0           Sliced Ham, Pineapple, Mozzarella Cheese  13.25   \n",
       "1  Pepperoni, Mushrooms, Red Onions, Red Peppers,...  16.00   \n",
       "2  Mozzarella Cheese, Provolone Cheese, Smoked Go...  18.50   \n",
       "3  Calabrese Salami, Capocollo, Tomatoes, Red Oni...  20.75   \n",
       "4  Tomatoes, Red Peppers, Jalapeno Peppers, Red O...  16.00   \n",
       "\n",
       "            date_time  \n",
       "0 2015-01-01 11:38:36  \n",
       "1 2015-01-01 11:57:40  \n",
       "2 2015-01-01 11:57:40  \n",
       "3 2015-01-01 11:57:40  \n",
       "4 2015-01-01 11:57:40  "
      ]
     },
     "execution_count": 228,
     "metadata": {},
     "output_type": "execute_result"
    }
   ],
   "source": [
    "# Concatenate the date and time columns and convert to datetime format\n",
    "\n",
    "merged_pizza_df[\"date_time\"] = pd.to_datetime(merged_pizza_df[\"date\"] + \" \" + merged_pizza_df[\"time\"])\n",
    "\n",
    "merged_pizza_df.head()"
   ]
  },
  {
   "cell_type": "code",
   "execution_count": 229,
   "id": "9395640e-d00e-489b-b612-4a1cecf20460",
   "metadata": {},
   "outputs": [
    {
     "data": {
      "text/html": [
       "<div>\n",
       "<style scoped>\n",
       "    .dataframe tbody tr th:only-of-type {\n",
       "        vertical-align: middle;\n",
       "    }\n",
       "\n",
       "    .dataframe tbody tr th {\n",
       "        vertical-align: top;\n",
       "    }\n",
       "\n",
       "    .dataframe thead th {\n",
       "        text-align: right;\n",
       "    }\n",
       "</style>\n",
       "<table border=\"1\" class=\"dataframe\">\n",
       "  <thead>\n",
       "    <tr style=\"text-align: right;\">\n",
       "      <th></th>\n",
       "      <th>order_details_id</th>\n",
       "      <th>order_id</th>\n",
       "      <th>pizza_id</th>\n",
       "      <th>quantity</th>\n",
       "      <th>date</th>\n",
       "      <th>time</th>\n",
       "      <th>pizza_type_id</th>\n",
       "      <th>size</th>\n",
       "      <th>price</th>\n",
       "      <th>name</th>\n",
       "      <th>category</th>\n",
       "      <th>ingredients</th>\n",
       "      <th>sales</th>\n",
       "      <th>date_time</th>\n",
       "      <th>hour</th>\n",
       "    </tr>\n",
       "  </thead>\n",
       "  <tbody>\n",
       "    <tr>\n",
       "      <th>9112</th>\n",
       "      <td>9113</td>\n",
       "      <td>3997</td>\n",
       "      <td>bbq_ckn_s</td>\n",
       "      <td>1</td>\n",
       "      <td>2015-03-08</td>\n",
       "      <td>20:55:45</td>\n",
       "      <td>bbq_ckn</td>\n",
       "      <td>S</td>\n",
       "      <td>12.75</td>\n",
       "      <td>The Barbecue Chicken Pizza</td>\n",
       "      <td>Chicken</td>\n",
       "      <td>Barbecued Chicken, Red Peppers, Green Peppers,...</td>\n",
       "      <td>12.75</td>\n",
       "      <td>2015-03-08 20:55:45</td>\n",
       "      <td>20</td>\n",
       "    </tr>\n",
       "  </tbody>\n",
       "</table>\n",
       "</div>"
      ],
      "text/plain": [
       "      order_details_id  order_id   pizza_id  quantity        date      time  \\\n",
       "9112              9113      3997  bbq_ckn_s         1  2015-03-08  20:55:45   \n",
       "\n",
       "     pizza_type_id size  price                        name category  \\\n",
       "9112       bbq_ckn    S  12.75  The Barbecue Chicken Pizza  Chicken   \n",
       "\n",
       "                                            ingredients  sales  \\\n",
       "9112  Barbecued Chicken, Red Peppers, Green Peppers,...  12.75   \n",
       "\n",
       "               date_time  hour  \n",
       "9112 2015-03-08 20:55:45    20  "
      ]
     },
     "execution_count": 229,
     "metadata": {},
     "output_type": "execute_result"
    }
   ],
   "source": [
    "# hour column\n",
    "\n",
    "merged_pizza_df[\"hour\"] = merged_pizza_df[\"date_time\"].dt.hour\n",
    "merged_pizza_df.sample(1)"
   ]
  },
  {
   "cell_type": "code",
   "execution_count": 230,
   "id": "df15f9ad-c328-40cc-9d81-e52a4a95c2d9",
   "metadata": {},
   "outputs": [
    {
     "data": {
      "text/plain": [
       "hour\n",
       "9         83.00\n",
       "10       303.65\n",
       "11     44935.80\n",
       "12    111877.90\n",
       "13    106065.70\n",
       "14     59201.40\n",
       "15     52992.30\n",
       "16     70055.40\n",
       "17     86237.45\n",
       "18     89296.85\n",
       "19     72628.90\n",
       "20     58215.40\n",
       "21     42029.80\n",
       "22     22815.15\n",
       "23      1121.35\n",
       "Name: sales, dtype: float64"
      ]
     },
     "execution_count": 230,
     "metadata": {},
     "output_type": "execute_result"
    }
   ],
   "source": [
    "# Finding the sales for every hour\n",
    "\n",
    "hourly_sales = merged_pizza_df.groupby(\"hour\")[\"sales\"].sum()\n",
    "\n",
    "hourly_sales"
   ]
  },
  {
   "cell_type": "code",
   "execution_count": 231,
   "id": "0f403c3b-7976-4340-b69e-5648be364b25",
   "metadata": {},
   "outputs": [
    {
     "data": {
      "image/png": "[encoded data removed]",
      "text/plain": [
       "<Figure size 640x480 with 1 Axes>"
      ]
     },
     "metadata": {},
     "output_type": "display_data"
    }
   ],
   "source": [
    "# Visualization\n",
    "\n",
    "plt.bar(hourly_sales.index, hourly_sales.values, color=\"forestgreen\")\n",
    "\n",
    "# Titles\n",
    "\n",
    "plt.title(\"Sales by Hour\", color=\"darkgreen\", fontsize=\"14\", fontweight=\"bold\")\n",
    "plt.xlabel(\"Hour of Day\", color=\"darkgreen\", fontsize=\"12\", fontweight=\"bold\")\n",
    "plt.ylabel(\"Sales\", color=\"darkgreen\", fontsize=\"12\", fontweight=\"bold\")\n",
    "\n",
    "# Working on the labels\n",
    "\n",
    "plt.xticks(fontsize=\"10\", color=\"forestgreen\")\n",
    "plt.yticks(fontsize=\"10\", color=\"forestgreen\")\n",
    "\n",
    "plt.show()"
   ]
  },
  {
   "cell_type": "markdown",
   "id": "a2e6a2cc-165a-4cc7-aa1a-460dd3349791",
   "metadata": {},
   "source": [
    "- Peak Hours fall on **midday (*12-2pm*)** and **closing hours (*5-7pm*)**. This could be because people need a quick lunch during working hours, and there is the considerable lot that takes supply home for a quick dinner.\n",
    "- Major significance should be placed on the **midday rush**, which alone generated over $200,000 in annual revenue, accounting for more than 25 percent the entire revenue for the year.\n",
    "- The peak hours should guide marketing strategies, and even staffing. The heat of demand falls on midday and early evening hours; Staff should be heavily on ground during these times.\n",
    "- The lowest sales occur between 9-11am, and 11pm-12am. Quite understandably, late-night sales are low since *most* people are asleep after 10pm. Nonetheless for the time period 9-11am, it is likely that customers are occupied with work activities. This suggests that the primary customer base consists of working individuals."
   ]
  },
  {
   "cell_type": "markdown",
   "id": "b3881276-f5cf-4de0-bfd0-5c9f0fcdb459",
   "metadata": {},
   "source": [
    "## 7. Total Sales Made on Each Day"
   ]
  },
  {
   "cell_type": "code",
   "execution_count": 232,
   "id": "8d64e01e-dc46-4164-903e-14ad3419c9ac",
   "metadata": {},
   "outputs": [
    {
     "data": {
      "text/html": [
       "<div>\n",
       "<style scoped>\n",
       "    .dataframe tbody tr th:only-of-type {\n",
       "        vertical-align: middle;\n",
       "    }\n",
       "\n",
       "    .dataframe tbody tr th {\n",
       "        vertical-align: top;\n",
       "    }\n",
       "\n",
       "    .dataframe thead th {\n",
       "        text-align: right;\n",
       "    }\n",
       "</style>\n",
       "<table border=\"1\" class=\"dataframe\">\n",
       "  <thead>\n",
       "    <tr style=\"text-align: right;\">\n",
       "      <th></th>\n",
       "      <th>order_details_id</th>\n",
       "      <th>order_id</th>\n",
       "      <th>pizza_id</th>\n",
       "      <th>quantity</th>\n",
       "      <th>date</th>\n",
       "      <th>time</th>\n",
       "      <th>pizza_type_id</th>\n",
       "      <th>size</th>\n",
       "      <th>price</th>\n",
       "      <th>name</th>\n",
       "      <th>category</th>\n",
       "      <th>ingredients</th>\n",
       "      <th>sales</th>\n",
       "      <th>date_time</th>\n",
       "      <th>hour</th>\n",
       "      <th>day</th>\n",
       "    </tr>\n",
       "  </thead>\n",
       "  <tbody>\n",
       "    <tr>\n",
       "      <th>35048</th>\n",
       "      <td>35049</td>\n",
       "      <td>15473</td>\n",
       "      <td>spicy_ital_l</td>\n",
       "      <td>1</td>\n",
       "      <td>2015-09-16</td>\n",
       "      <td>11:50:09</td>\n",
       "      <td>spicy_ital</td>\n",
       "      <td>L</td>\n",
       "      <td>20.75</td>\n",
       "      <td>The Spicy Italian Pizza</td>\n",
       "      <td>Supreme</td>\n",
       "      <td>Capocollo, Tomatoes, Goat Cheese, Artichokes, ...</td>\n",
       "      <td>20.75</td>\n",
       "      <td>2015-09-16 11:50:09</td>\n",
       "      <td>11</td>\n",
       "      <td>Wednesday</td>\n",
       "    </tr>\n",
       "    <tr>\n",
       "      <th>3904</th>\n",
       "      <td>3905</td>\n",
       "      <td>1737</td>\n",
       "      <td>ckn_alfredo_m</td>\n",
       "      <td>1</td>\n",
       "      <td>2015-01-30</td>\n",
       "      <td>13:41:21</td>\n",
       "      <td>ckn_alfredo</td>\n",
       "      <td>M</td>\n",
       "      <td>16.75</td>\n",
       "      <td>The Chicken Alfredo Pizza</td>\n",
       "      <td>Chicken</td>\n",
       "      <td>Chicken, Red Onions, Red Peppers, Mushrooms, A...</td>\n",
       "      <td>16.75</td>\n",
       "      <td>2015-01-30 13:41:21</td>\n",
       "      <td>13</td>\n",
       "      <td>Friday</td>\n",
       "    </tr>\n",
       "    <tr>\n",
       "      <th>40824</th>\n",
       "      <td>40825</td>\n",
       "      <td>17986</td>\n",
       "      <td>big_meat_s</td>\n",
       "      <td>1</td>\n",
       "      <td>2015-11-02</td>\n",
       "      <td>21:46:19</td>\n",
       "      <td>big_meat</td>\n",
       "      <td>S</td>\n",
       "      <td>12.00</td>\n",
       "      <td>The Big Meat Pizza</td>\n",
       "      <td>Classic</td>\n",
       "      <td>Bacon, Pepperoni, Italian Sausage, Chorizo Sau...</td>\n",
       "      <td>12.00</td>\n",
       "      <td>2015-11-02 21:46:19</td>\n",
       "      <td>21</td>\n",
       "      <td>Monday</td>\n",
       "    </tr>\n",
       "  </tbody>\n",
       "</table>\n",
       "</div>"
      ],
      "text/plain": [
       "       order_details_id  order_id       pizza_id  quantity        date  \\\n",
       "35048             35049     15473   spicy_ital_l         1  2015-09-16   \n",
       "3904               3905      1737  ckn_alfredo_m         1  2015-01-30   \n",
       "40824             40825     17986     big_meat_s         1  2015-11-02   \n",
       "\n",
       "           time pizza_type_id size  price                       name category  \\\n",
       "35048  11:50:09    spicy_ital    L  20.75    The Spicy Italian Pizza  Supreme   \n",
       "3904   13:41:21   ckn_alfredo    M  16.75  The Chicken Alfredo Pizza  Chicken   \n",
       "40824  21:46:19      big_meat    S  12.00         The Big Meat Pizza  Classic   \n",
       "\n",
       "                                             ingredients  sales  \\\n",
       "35048  Capocollo, Tomatoes, Goat Cheese, Artichokes, ...  20.75   \n",
       "3904   Chicken, Red Onions, Red Peppers, Mushrooms, A...  16.75   \n",
       "40824  Bacon, Pepperoni, Italian Sausage, Chorizo Sau...  12.00   \n",
       "\n",
       "                date_time  hour        day  \n",
       "35048 2015-09-16 11:50:09    11  Wednesday  \n",
       "3904  2015-01-30 13:41:21    13     Friday  \n",
       "40824 2015-11-02 21:46:19    21     Monday  "
      ]
     },
     "execution_count": 232,
     "metadata": {},
     "output_type": "execute_result"
    }
   ],
   "source": [
    "# Day column\n",
    "\n",
    "merged_pizza_df[\"day\"] = merged_pizza_df[\"date_time\"].dt.day_name()\n",
    "\n",
    "merged_pizza_df.sample(3)"
   ]
  },
  {
   "cell_type": "code",
   "execution_count": 233,
   "id": "3fff5771-7f15-4c47-99fb-96ef58935ae8",
   "metadata": {},
   "outputs": [
    {
     "data": {
      "text/plain": [
       "day\n",
       "Monday       107329.55\n",
       "Tuesday      114133.80\n",
       "Wednesday    114408.40\n",
       "Thursday     123528.50\n",
       "Friday       136073.90\n",
       "Saturday     123182.40\n",
       "Sunday        99203.50\n",
       "Name: sales, dtype: float64"
      ]
     },
     "execution_count": 233,
     "metadata": {},
     "output_type": "execute_result"
    }
   ],
   "source": [
    "# Finding the sales per weekday\n",
    "\n",
    "# first setting an order for the day column to mon-sun for the bar chart\n",
    "day_order = [\"Monday\", \"Tuesday\", \"Wednesday\", \"Thursday\", \"Friday\", \"Saturday\", \"Sunday\"]\n",
    "\n",
    "# sales by weekday\n",
    "sales_per_day = merged_pizza_df.groupby(\"day\")[\"sales\"].sum()\n",
    "\n",
    "# reindexing\n",
    "sales_per_day = sales_per_day.reindex(day_order)\n",
    "\n",
    "sales_per_day"
   ]
  },
  {
   "cell_type": "code",
   "execution_count": 234,
   "id": "aaf8d33d-f02a-4fd4-a8e2-8ed19278336d",
   "metadata": {},
   "outputs": [
    {
     "data": {
      "image/png": "[encoded data removed]",
      "text/plain": [
       "<Figure size 640x480 with 1 Axes>"
      ]
     },
     "metadata": {},
     "output_type": "display_data"
    }
   ],
   "source": [
    "# Visualization\n",
    "\n",
    "plt.bar(sales_per_day.index, sales_per_day.values, color=\"forestgreen\")\n",
    "\n",
    "# Titles\n",
    "\n",
    "plt.title(\"Sales by Weekday\", color=\"darkgreen\", fontsize=\"14\", fontweight=\"bold\")\n",
    "plt.xlabel(\"Day of week\", color=\"darkgreen\", fontsize=\"12\", fontweight=\"bold\")\n",
    "plt.ylabel(\"Sales\", color=\"darkgreen\", fontsize=\"12\", fontweight=\"bold\")\n",
    "\n",
    "# Working on the labels\n",
    "\n",
    "plt.xticks(fontsize=\"10\", color=\"forestgreen\", rotation=45)\n",
    "plt.yticks(fontsize=\"10\", color=\"forestgreen\")\n",
    "\n",
    "plt.show()"
   ]
  },
  {
   "cell_type": "markdown",
   "id": "06e25298-3754-4bbc-ae86-984a530663cc",
   "metadata": {},
   "source": [
    "**Day with the highest sales** -- **FRIDAY**"
   ]
  },
  {
   "cell_type": "markdown",
   "id": "d98aade7-d8ab-4465-925c-00e9831399ea",
   "metadata": {},
   "source": [
    "- **Friday** has the **highest sales** by a significant margin of more than $100,000. This is typical for pizza places as people tend to order more for weekend enjoyment. Hence, the business should ensure maximum staffing and inventory on Fridays\n",
    "- Sales **consistently** build throughout the week (we see a steady rise from Monday to Friday).\n",
    "- There is however, a consistent drop during the weekends. A possible reason could be that weekends tend to be \"free-er\" for families, and there'll be more chances of them actually making meals at home."
   ]
  },
  {
   "cell_type": "markdown",
   "id": "af95d9c4-1be3-488c-9642-d789b01812be",
   "metadata": {},
   "source": [
    "## 8. Top 5 Best-selling Pizzas"
   ]
  },
  {
   "cell_type": "code",
   "execution_count": 235,
   "id": "b37bdbcc-1239-4752-b765-b8b8a5d7b408",
   "metadata": {},
   "outputs": [
    {
     "data": {
      "text/html": [
       "<div>\n",
       "<style scoped>\n",
       "    .dataframe tbody tr th:only-of-type {\n",
       "        vertical-align: middle;\n",
       "    }\n",
       "\n",
       "    .dataframe tbody tr th {\n",
       "        vertical-align: top;\n",
       "    }\n",
       "\n",
       "    .dataframe thead th {\n",
       "        text-align: right;\n",
       "    }\n",
       "</style>\n",
       "<table border=\"1\" class=\"dataframe\">\n",
       "  <thead>\n",
       "    <tr style=\"text-align: right;\">\n",
       "      <th></th>\n",
       "      <th>order_details_id</th>\n",
       "      <th>order_id</th>\n",
       "      <th>pizza_id</th>\n",
       "      <th>quantity</th>\n",
       "      <th>date</th>\n",
       "      <th>time</th>\n",
       "      <th>pizza_type_id</th>\n",
       "      <th>size</th>\n",
       "      <th>price</th>\n",
       "      <th>name</th>\n",
       "      <th>category</th>\n",
       "      <th>ingredients</th>\n",
       "      <th>sales</th>\n",
       "      <th>date_time</th>\n",
       "      <th>hour</th>\n",
       "      <th>day</th>\n",
       "    </tr>\n",
       "  </thead>\n",
       "  <tbody>\n",
       "    <tr>\n",
       "      <th>3735</th>\n",
       "      <td>3736</td>\n",
       "      <td>1656</td>\n",
       "      <td>the_greek_m</td>\n",
       "      <td>1</td>\n",
       "      <td>2015-01-28</td>\n",
       "      <td>18:15:57</td>\n",
       "      <td>the_greek</td>\n",
       "      <td>M</td>\n",
       "      <td>16.00</td>\n",
       "      <td>The Greek Pizza</td>\n",
       "      <td>Classic</td>\n",
       "      <td>Kalamata Olives, Feta Cheese, Tomatoes, Garlic...</td>\n",
       "      <td>16.00</td>\n",
       "      <td>2015-01-28 18:15:57</td>\n",
       "      <td>18</td>\n",
       "      <td>Wednesday</td>\n",
       "    </tr>\n",
       "    <tr>\n",
       "      <th>3565</th>\n",
       "      <td>3566</td>\n",
       "      <td>1582</td>\n",
       "      <td>hawaiian_s</td>\n",
       "      <td>1</td>\n",
       "      <td>2015-01-27</td>\n",
       "      <td>16:34:55</td>\n",
       "      <td>hawaiian</td>\n",
       "      <td>S</td>\n",
       "      <td>10.50</td>\n",
       "      <td>The Hawaiian Pizza</td>\n",
       "      <td>Classic</td>\n",
       "      <td>Sliced Ham, Pineapple, Mozzarella Cheese</td>\n",
       "      <td>10.50</td>\n",
       "      <td>2015-01-27 16:34:55</td>\n",
       "      <td>16</td>\n",
       "      <td>Tuesday</td>\n",
       "    </tr>\n",
       "    <tr>\n",
       "      <th>37304</th>\n",
       "      <td>37305</td>\n",
       "      <td>16464</td>\n",
       "      <td>soppressata_l</td>\n",
       "      <td>1</td>\n",
       "      <td>2015-10-04</td>\n",
       "      <td>17:31:19</td>\n",
       "      <td>soppressata</td>\n",
       "      <td>L</td>\n",
       "      <td>20.75</td>\n",
       "      <td>The Soppressata Pizza</td>\n",
       "      <td>Supreme</td>\n",
       "      <td>Soppressata Salami, Fontina Cheese, Mozzarella...</td>\n",
       "      <td>20.75</td>\n",
       "      <td>2015-10-04 17:31:19</td>\n",
       "      <td>17</td>\n",
       "      <td>Sunday</td>\n",
       "    </tr>\n",
       "  </tbody>\n",
       "</table>\n",
       "</div>"
      ],
      "text/plain": [
       "       order_details_id  order_id       pizza_id  quantity        date  \\\n",
       "3735               3736      1656    the_greek_m         1  2015-01-28   \n",
       "3565               3566      1582     hawaiian_s         1  2015-01-27   \n",
       "37304             37305     16464  soppressata_l         1  2015-10-04   \n",
       "\n",
       "           time pizza_type_id size  price                   name category  \\\n",
       "3735   18:15:57     the_greek    M  16.00        The Greek Pizza  Classic   \n",
       "3565   16:34:55      hawaiian    S  10.50     The Hawaiian Pizza  Classic   \n",
       "37304  17:31:19   soppressata    L  20.75  The Soppressata Pizza  Supreme   \n",
       "\n",
       "                                             ingredients  sales  \\\n",
       "3735   Kalamata Olives, Feta Cheese, Tomatoes, Garlic...  16.00   \n",
       "3565            Sliced Ham, Pineapple, Mozzarella Cheese  10.50   \n",
       "37304  Soppressata Salami, Fontina Cheese, Mozzarella...  20.75   \n",
       "\n",
       "                date_time  hour        day  \n",
       "3735  2015-01-28 18:15:57    18  Wednesday  \n",
       "3565  2015-01-27 16:34:55    16    Tuesday  \n",
       "37304 2015-10-04 17:31:19    17     Sunday  "
      ]
     },
     "execution_count": 235,
     "metadata": {},
     "output_type": "execute_result"
    }
   ],
   "source": [
    "merged_pizza_df.sample(3)"
   ]
  },
  {
   "cell_type": "code",
   "execution_count": 236,
   "id": "c846f2e1-30c7-4a76-ba60-40ffb5e059be",
   "metadata": {},
   "outputs": [
    {
     "data": {
      "text/plain": [
       "name\n",
       "The Classic Deluxe Pizza      2453\n",
       "The Barbecue Chicken Pizza    2432\n",
       "The Hawaiian Pizza            2422\n",
       "The Pepperoni Pizza           2418\n",
       "The Thai Chicken Pizza        2371\n",
       "Name: quantity, dtype: int64"
      ]
     },
     "execution_count": 236,
     "metadata": {},
     "output_type": "execute_result"
    }
   ],
   "source": [
    "# Group the the quantity that's been ordered by the pizza names\n",
    "\n",
    "top_5_pizzas = merged_pizza_df.groupby(\"name\")[\"quantity\"].sum().sort_values(ascending=False).head()\n",
    "\n",
    "top_5_pizzas"
   ]
  },
  {
   "cell_type": "code",
   "execution_count": 237,
   "id": "4159a0ad-a384-4c73-98fc-d7bcfc8d637e",
   "metadata": {},
   "outputs": [
    {
     "data": {
      "image/png": "[encoded data removed]",
      "text/plain": [
       "<Figure size 640x480 with 1 Axes>"
      ]
     },
     "metadata": {},
     "output_type": "display_data"
    }
   ],
   "source": [
    "# Visualization of the top 5 pizzas\n",
    "\n",
    "plt.bar(top_5_pizzas.index, top_5_pizzas.values, color=\"forestgreen\", width=0.6)\n",
    "\n",
    "# Titles\n",
    "\n",
    "plt.title(\"Top 5 Pizzas\", color=\"darkgreen\", fontsize=\"14\", fontweight=\"bold\")\n",
    "plt.xlabel(\"Pizza\", color=\"darkgreen\", fontsize=\"12\", fontweight=\"bold\")\n",
    "plt.ylabel(\"Quantity Ordered\", color=\"darkgreen\", fontsize=\"12\", fontweight=\"bold\")\n",
    "\n",
    "# Working on the labels\n",
    "\n",
    "plt.xticks(fontsize=\"10\", color=\"forestgreen\", rotation=65)\n",
    "plt.yticks(fontsize=\"10\", color=\"forestgreen\")\n",
    "\n",
    "plt.show()"
   ]
  },
  {
   "cell_type": "markdown",
   "id": "e03859fa-9ad2-44ac-ba7e-3239c4c2c161",
   "metadata": {},
   "source": [
    "- These are all consistently close top performers. The small gaps suggest customers like variety in you top tier.\n",
    "- The Classic Deluxe Pizza is the top product. Likewise, there seems to be no **extreme specialty pizzas** in the top 5. Either the customers prefer a conservative taste, or the specialty pizzas are not catchy enough to spark a massive demand. The business should look into more creative recipes that would spark customer interest.\n",
    "- Ensure consistent quality on these top pizzas to avoid drop in demand."
   ]
  },
  {
   "cell_type": "markdown",
   "id": "490d65ea-4283-428c-bb04-cd3668786204",
   "metadata": {},
   "source": [
    "## 9. Monthly Sales"
   ]
  },
  {
   "cell_type": "code",
   "execution_count": 238,
   "id": "260945e9-ede3-405d-aa84-8e4f98c4cd30",
   "metadata": {},
   "outputs": [
    {
     "data": {
      "text/html": [
       "<div>\n",
       "<style scoped>\n",
       "    .dataframe tbody tr th:only-of-type {\n",
       "        vertical-align: middle;\n",
       "    }\n",
       "\n",
       "    .dataframe tbody tr th {\n",
       "        vertical-align: top;\n",
       "    }\n",
       "\n",
       "    .dataframe thead th {\n",
       "        text-align: right;\n",
       "    }\n",
       "</style>\n",
       "<table border=\"1\" class=\"dataframe\">\n",
       "  <thead>\n",
       "    <tr style=\"text-align: right;\">\n",
       "      <th></th>\n",
       "      <th>order_details_id</th>\n",
       "      <th>order_id</th>\n",
       "      <th>pizza_id</th>\n",
       "      <th>quantity</th>\n",
       "      <th>date</th>\n",
       "      <th>time</th>\n",
       "      <th>pizza_type_id</th>\n",
       "      <th>size</th>\n",
       "      <th>price</th>\n",
       "      <th>name</th>\n",
       "      <th>category</th>\n",
       "      <th>ingredients</th>\n",
       "      <th>sales</th>\n",
       "      <th>date_time</th>\n",
       "      <th>hour</th>\n",
       "      <th>day</th>\n",
       "      <th>month</th>\n",
       "    </tr>\n",
       "  </thead>\n",
       "  <tbody>\n",
       "    <tr>\n",
       "      <th>44132</th>\n",
       "      <td>44133</td>\n",
       "      <td>19396</td>\n",
       "      <td>spinach_fet_s</td>\n",
       "      <td>1</td>\n",
       "      <td>2015-11-26</td>\n",
       "      <td>21:32:07</td>\n",
       "      <td>spinach_fet</td>\n",
       "      <td>S</td>\n",
       "      <td>12.00</td>\n",
       "      <td>The Spinach and Feta Pizza</td>\n",
       "      <td>Veggie</td>\n",
       "      <td>Spinach, Mushrooms, Red Onions, Feta Cheese, G...</td>\n",
       "      <td>12.00</td>\n",
       "      <td>2015-11-26 21:32:07</td>\n",
       "      <td>21</td>\n",
       "      <td>Thursday</td>\n",
       "      <td>November</td>\n",
       "    </tr>\n",
       "    <tr>\n",
       "      <th>34088</th>\n",
       "      <td>34089</td>\n",
       "      <td>15050</td>\n",
       "      <td>classic_dlx_m</td>\n",
       "      <td>1</td>\n",
       "      <td>2015-09-09</td>\n",
       "      <td>14:03:48</td>\n",
       "      <td>classic_dlx</td>\n",
       "      <td>M</td>\n",
       "      <td>16.00</td>\n",
       "      <td>The Classic Deluxe Pizza</td>\n",
       "      <td>Classic</td>\n",
       "      <td>Pepperoni, Mushrooms, Red Onions, Red Peppers,...</td>\n",
       "      <td>16.00</td>\n",
       "      <td>2015-09-09 14:03:48</td>\n",
       "      <td>14</td>\n",
       "      <td>Wednesday</td>\n",
       "      <td>September</td>\n",
       "    </tr>\n",
       "    <tr>\n",
       "      <th>29508</th>\n",
       "      <td>29509</td>\n",
       "      <td>13037</td>\n",
       "      <td>ckn_alfredo_l</td>\n",
       "      <td>1</td>\n",
       "      <td>2015-08-06</td>\n",
       "      <td>12:10:30</td>\n",
       "      <td>ckn_alfredo</td>\n",
       "      <td>L</td>\n",
       "      <td>20.75</td>\n",
       "      <td>The Chicken Alfredo Pizza</td>\n",
       "      <td>Chicken</td>\n",
       "      <td>Chicken, Red Onions, Red Peppers, Mushrooms, A...</td>\n",
       "      <td>20.75</td>\n",
       "      <td>2015-08-06 12:10:30</td>\n",
       "      <td>12</td>\n",
       "      <td>Thursday</td>\n",
       "      <td>August</td>\n",
       "    </tr>\n",
       "  </tbody>\n",
       "</table>\n",
       "</div>"
      ],
      "text/plain": [
       "       order_details_id  order_id       pizza_id  quantity        date  \\\n",
       "44132             44133     19396  spinach_fet_s         1  2015-11-26   \n",
       "34088             34089     15050  classic_dlx_m         1  2015-09-09   \n",
       "29508             29509     13037  ckn_alfredo_l         1  2015-08-06   \n",
       "\n",
       "           time pizza_type_id size  price                        name  \\\n",
       "44132  21:32:07   spinach_fet    S  12.00  The Spinach and Feta Pizza   \n",
       "34088  14:03:48   classic_dlx    M  16.00    The Classic Deluxe Pizza   \n",
       "29508  12:10:30   ckn_alfredo    L  20.75   The Chicken Alfredo Pizza   \n",
       "\n",
       "      category                                        ingredients  sales  \\\n",
       "44132   Veggie  Spinach, Mushrooms, Red Onions, Feta Cheese, G...  12.00   \n",
       "34088  Classic  Pepperoni, Mushrooms, Red Onions, Red Peppers,...  16.00   \n",
       "29508  Chicken  Chicken, Red Onions, Red Peppers, Mushrooms, A...  20.75   \n",
       "\n",
       "                date_time  hour        day      month  \n",
       "44132 2015-11-26 21:32:07    21   Thursday   November  \n",
       "34088 2015-09-09 14:03:48    14  Wednesday  September  \n",
       "29508 2015-08-06 12:10:30    12   Thursday     August  "
      ]
     },
     "execution_count": 238,
     "metadata": {},
     "output_type": "execute_result"
    }
   ],
   "source": [
    "# Month column\n",
    "\n",
    "merged_pizza_df[\"month\"] = merged_pizza_df[\"date_time\"].dt.month_name()\n",
    "\n",
    "merged_pizza_df.sample(3)"
   ]
  },
  {
   "cell_type": "code",
   "execution_count": 239,
   "id": "bc562794-94bf-4e5e-832b-6124dd712882",
   "metadata": {},
   "outputs": [
    {
     "data": {
      "text/plain": [
       "month\n",
       "January      69793.30\n",
       "February     65159.60\n",
       "March        70397.10\n",
       "April        68736.80\n",
       "May          71402.75\n",
       "June         68230.20\n",
       "July         72557.90\n",
       "August       68278.25\n",
       "September    64180.05\n",
       "October      64027.60\n",
       "November     70395.35\n",
       "December     64701.15\n",
       "Name: sales, dtype: float64"
      ]
     },
     "execution_count": 239,
     "metadata": {},
     "output_type": "execute_result"
    }
   ],
   "source": [
    "# Sales by month\n",
    "monthly_sales = merged_pizza_df.groupby(\"month\")[\"sales\"].sum()\n",
    "\n",
    "# resetting the index\n",
    "month_order = [\"January\", \"February\", \"March\", \"April\", \"May\", \"June\", \"July\", \"August\", \"September\", \"October\", \"November\", \"December\"]\n",
    "monthly_sales = monthly_sales.reindex(month_order)\n",
    "\n",
    "monthly_sales"
   ]
  },
  {
   "cell_type": "code",
   "execution_count": 243,
   "id": "5cf53c93-80ad-48dd-ab4c-e9c31d242829",
   "metadata": {},
   "outputs": [
    {
     "data": {
      "image/png": "[encoded data removed]",
      "text/plain": [
       "<Figure size 640x480 with 1 Axes>"
      ]
     },
     "metadata": {},
     "output_type": "display_data"
    }
   ],
   "source": [
    "# Visualization\n",
    "\n",
    "plt.plot(monthly_sales.index, monthly_sales.values, color=\"forestgreen\", marker=\"o\", markersize=7, markerfacecolor=\"white\", markeredgecolor=\"forestgreen\")\n",
    "\n",
    "# Titles\n",
    "plt.title(\"Monthly Sales Trend\", color=\"darkgreen\", fontsize=\"14\", fontweight=\"bold\")\n",
    "\n",
    "plt.xlabel(\"Month\", color=\"darkgreen\", fontsize=\"12\", fontweight=\"bold\")\n",
    "plt.ylabel(\"Sales\", color=\"darkgreen\", fontsize=\"12\", fontweight=\"bold\")\n",
    "\n",
    "plt.xticks(fontsize=\"10\", color=\"forestgreen\", rotation=45)\n",
    "plt.yticks(fontsize=\"10\", color=\"forestgreen\")\n",
    "\n",
    "plt.show()"
   ]
  },
  {
   "cell_type": "markdown",
   "id": "4ce99c6e-6644-4a7b-b9bf-436fcbe30844",
   "metadata": {},
   "source": [
    "- Sales stay within a tight range (~64,000 to ~72,000)\n",
    "- July shows the highest sales (clear summer peak)\n",
    "- **Possible reasons:**\n",
    "1. Summer vacations\n",
    "2. Outdoor events/parties\n",
    "3. Better weather for pizza delivery\n",
    "4. Family gatherings"
   ]
  },
  {
   "cell_type": "markdown",
   "id": "3f167bfa-a4d8-4ba3-848d-e73322be2d7c",
   "metadata": {},
   "source": [
    "## 10. Are there pizza types that are not doing well on the menu?"
   ]
  },
  {
   "cell_type": "code",
   "execution_count": 244,
   "id": "62229e70-d9fb-495e-8244-0ac3959d1606",
   "metadata": {},
   "outputs": [
    {
     "data": {
      "text/html": [
       "<div>\n",
       "<style scoped>\n",
       "    .dataframe tbody tr th:only-of-type {\n",
       "        vertical-align: middle;\n",
       "    }\n",
       "\n",
       "    .dataframe tbody tr th {\n",
       "        vertical-align: top;\n",
       "    }\n",
       "\n",
       "    .dataframe thead th {\n",
       "        text-align: right;\n",
       "    }\n",
       "</style>\n",
       "<table border=\"1\" class=\"dataframe\">\n",
       "  <thead>\n",
       "    <tr style=\"text-align: right;\">\n",
       "      <th></th>\n",
       "      <th>order_details_id</th>\n",
       "      <th>order_id</th>\n",
       "      <th>pizza_id</th>\n",
       "      <th>quantity</th>\n",
       "      <th>date</th>\n",
       "      <th>time</th>\n",
       "      <th>pizza_type_id</th>\n",
       "      <th>size</th>\n",
       "      <th>price</th>\n",
       "      <th>name</th>\n",
       "      <th>category</th>\n",
       "      <th>ingredients</th>\n",
       "      <th>sales</th>\n",
       "      <th>date_time</th>\n",
       "      <th>hour</th>\n",
       "      <th>day</th>\n",
       "      <th>month</th>\n",
       "    </tr>\n",
       "  </thead>\n",
       "  <tbody>\n",
       "    <tr>\n",
       "      <th>39150</th>\n",
       "      <td>39151</td>\n",
       "      <td>17257</td>\n",
       "      <td>napolitana_s</td>\n",
       "      <td>1</td>\n",
       "      <td>2015-10-20</td>\n",
       "      <td>18:46:51</td>\n",
       "      <td>napolitana</td>\n",
       "      <td>S</td>\n",
       "      <td>12.0</td>\n",
       "      <td>The Napolitana Pizza</td>\n",
       "      <td>Classic</td>\n",
       "      <td>Tomatoes, Anchovies, Green Olives, Red Onions,...</td>\n",
       "      <td>12.0</td>\n",
       "      <td>2015-10-20 18:46:51</td>\n",
       "      <td>18</td>\n",
       "      <td>Tuesday</td>\n",
       "      <td>October</td>\n",
       "    </tr>\n",
       "    <tr>\n",
       "      <th>19663</th>\n",
       "      <td>19664</td>\n",
       "      <td>8645</td>\n",
       "      <td>pep_msh_pep_s</td>\n",
       "      <td>1</td>\n",
       "      <td>2015-05-25</td>\n",
       "      <td>13:05:20</td>\n",
       "      <td>pep_msh_pep</td>\n",
       "      <td>S</td>\n",
       "      <td>11.0</td>\n",
       "      <td>The Pepperoni, Mushroom, and Peppers Pizza</td>\n",
       "      <td>Classic</td>\n",
       "      <td>Pepperoni, Mushrooms, Green Peppers</td>\n",
       "      <td>11.0</td>\n",
       "      <td>2015-05-25 13:05:20</td>\n",
       "      <td>13</td>\n",
       "      <td>Monday</td>\n",
       "      <td>May</td>\n",
       "    </tr>\n",
       "  </tbody>\n",
       "</table>\n",
       "</div>"
      ],
      "text/plain": [
       "       order_details_id  order_id       pizza_id  quantity        date  \\\n",
       "39150             39151     17257   napolitana_s         1  2015-10-20   \n",
       "19663             19664      8645  pep_msh_pep_s         1  2015-05-25   \n",
       "\n",
       "           time pizza_type_id size  price  \\\n",
       "39150  18:46:51    napolitana    S   12.0   \n",
       "19663  13:05:20   pep_msh_pep    S   11.0   \n",
       "\n",
       "                                             name category  \\\n",
       "39150                        The Napolitana Pizza  Classic   \n",
       "19663  The Pepperoni, Mushroom, and Peppers Pizza  Classic   \n",
       "\n",
       "                                             ingredients  sales  \\\n",
       "39150  Tomatoes, Anchovies, Green Olives, Red Onions,...   12.0   \n",
       "19663                Pepperoni, Mushrooms, Green Peppers   11.0   \n",
       "\n",
       "                date_time  hour      day    month  \n",
       "39150 2015-10-20 18:46:51    18  Tuesday  October  \n",
       "19663 2015-05-25 13:05:20    13   Monday      May  "
      ]
     },
     "execution_count": 244,
     "metadata": {},
     "output_type": "execute_result"
    }
   ],
   "source": [
    "merged_pizza_df.sample(2)"
   ]
  },
  {
   "cell_type": "code",
   "execution_count": 246,
   "id": "1d39118b-147c-4634-adc7-a7c86d526e71",
   "metadata": {},
   "outputs": [
    {
     "data": {
      "text/plain": [
       "pizza_type_id\n",
       "brie_carre      490\n",
       "mediterraneo    934\n",
       "calabrese       937\n",
       "spinach_supr    950\n",
       "soppressata     961\n",
       "Name: quantity, dtype: int64"
      ]
     },
     "execution_count": 246,
     "metadata": {},
     "output_type": "execute_result"
    }
   ],
   "source": [
    "# grouping by pizza_type_id, we want to find the least-ordered pizzas\n",
    "low_sellers = merged_pizza_df.groupby('pizza_type_id')['quantity'].sum().sort_values().head(5) #ascending order\n",
    "\n",
    "low_sellers"
   ]
  },
  {
   "cell_type": "code",
   "execution_count": 247,
   "id": "1245db53-e270-4e45-b35b-9c18b580042d",
   "metadata": {},
   "outputs": [
    {
     "data": {
      "image/png": "[encoded data removed]",
      "text/plain": [
       "<Figure size 640x480 with 1 Axes>"
      ]
     },
     "metadata": {},
     "output_type": "display_data"
    }
   ],
   "source": [
    "# Visualization of the low_selling pizza types\n",
    "\n",
    "plt.bar(low_sellers.index, low_sellers.values, color=\"forestgreen\", width=0.6)\n",
    "\n",
    "# Titles\n",
    "\n",
    "plt.title(\"Lowest Selling Pizza Types\", color=\"darkgreen\", fontsize=\"14\", fontweight=\"bold\")\n",
    "plt.xlabel(\"Pizza Type\", color=\"darkgreen\", fontsize=\"12\", fontweight=\"bold\")\n",
    "plt.ylabel(\"Quantity Ordered\", color=\"darkgreen\", fontsize=\"12\", fontweight=\"bold\")\n",
    "\n",
    "# Working on the labels\n",
    "\n",
    "plt.xticks(fontsize=\"10\", color=\"forestgreen\", rotation=65)\n",
    "plt.yticks(fontsize=\"10\", color=\"forestgreen\")\n",
    "\n",
    "plt.show()"
   ]
  },
  {
   "cell_type": "markdown",
   "id": "6dd15f36-0501-43a1-9c1a-b119a80cc3fa",
   "metadata": {},
   "source": [
    "- The top 5 low selling pizzas all rank below 1000 units in demand."
   ]
  }
 ],
 "metadata": {
  "kernelspec": {
   "display_name": "Python 3 (ipykernel)",
   "language": "python",
   "name": "python3"
  },
  "language_info": {
   "codemirror_mode": {
    "name": "ipython",
    "version": 3
   },
   "file_extension": ".py",
   "mimetype": "text/x-python",
   "name": "python",
   "nbconvert_exporter": "python",
   "pygments_lexer": "ipython3",
   "version": "3.13.5"
  }
 },
 "nbformat": 4,
 "nbformat_minor": 5
}
